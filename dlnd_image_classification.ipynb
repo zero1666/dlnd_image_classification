{
 "cells": [
  {
   "cell_type": "markdown",
   "metadata": {
    "collapsed": true,
    "deletable": true,
    "editable": true
   },
   "source": [
    "# Image Classification\n",
    "In this project, you'll classify images from the [CIFAR-10 dataset](https://www.cs.toronto.edu/~kriz/cifar.html).  The dataset consists of airplanes, dogs, cats, and other objects. You'll preprocess the images, then train a convolutional neural network on all the samples. The images need to be normalized and the labels need to be one-hot encoded.  You'll get to apply what you learned and build a convolutional, max pooling, dropout, and fully connected layers.  At the end, you'll get to see your neural network's predictions on the sample images.\n",
    "## Get the Data\n",
    "Run the following cell to download the [CIFAR-10 dataset for python](https://www.cs.toronto.edu/~kriz/cifar-10-python.tar.gz)."
   ]
  },
  {
   "cell_type": "code",
   "execution_count": 1,
   "metadata": {
    "collapsed": false,
    "deletable": true,
    "editable": true
   },
   "outputs": [
    {
     "name": "stderr",
     "output_type": "stream",
     "text": [
      "CIFAR-10 Dataset: 171MB [00:58, 2.91MB/s]                               \n"
     ]
    },
    {
     "name": "stdout",
     "output_type": "stream",
     "text": [
      "All files found!\n"
     ]
    }
   ],
   "source": [
    "\"\"\"\n",
    "DON'T MODIFY ANYTHING IN THIS CELL THAT IS BELOW THIS LINE\n",
    "\"\"\"\n",
    "from urllib.request import urlretrieve\n",
    "from os.path import isfile, isdir\n",
    "from tqdm import tqdm\n",
    "import problem_unittests as tests\n",
    "import tarfile\n",
    "\n",
    "cifar10_dataset_folder_path = 'cifar-10-batches-py'\n",
    "\n",
    "class DLProgress(tqdm):\n",
    "    last_block = 0\n",
    "\n",
    "    def hook(self, block_num=1, block_size=1, total_size=None):\n",
    "        self.total = total_size\n",
    "        self.update((block_num - self.last_block) * block_size)\n",
    "        self.last_block = block_num\n",
    "\n",
    "if not isfile('cifar-10-python.tar.gz'):\n",
    "    with DLProgress(unit='B', unit_scale=True, miniters=1, desc='CIFAR-10 Dataset') as pbar:\n",
    "        urlretrieve(\n",
    "            'https://www.cs.toronto.edu/~kriz/cifar-10-python.tar.gz',\n",
    "            'cifar-10-python.tar.gz',\n",
    "            pbar.hook)\n",
    "\n",
    "if not isdir(cifar10_dataset_folder_path):\n",
    "    with tarfile.open('cifar-10-python.tar.gz') as tar:\n",
    "        tar.extractall()\n",
    "        tar.close()\n",
    "\n",
    "\n",
    "tests.test_folder_path(cifar10_dataset_folder_path)"
   ]
  },
  {
   "cell_type": "markdown",
   "metadata": {
    "deletable": true,
    "editable": true
   },
   "source": [
    "## Explore the Data\n",
    "The dataset is broken into batches to prevent your machine from running out of memory.  The CIFAR-10 dataset consists of 5 batches, named `data_batch_1`, `data_batch_2`, etc.. Each batch contains the labels and images that are one of the following:\n",
    "* airplane\n",
    "* automobile\n",
    "* bird\n",
    "* cat\n",
    "* deer\n",
    "* dog\n",
    "* frog\n",
    "* horse\n",
    "* ship\n",
    "* truck\n",
    "\n",
    "Understanding a dataset is part of making predictions on the data.  Play around with the code cell below by changing the `batch_id` and `sample_id`. The `batch_id` is the id for a batch (1-5). The `sample_id` is the id for a image and label pair in the batch.\n",
    "\n",
    "Ask yourself \"What are all possible labels?\", \"What is the range of values for the image data?\", \"Are the labels in order or random?\".  Answers to questions like these will help you preprocess the data and end up with better predictions."
   ]
  },
  {
   "cell_type": "code",
   "execution_count": 2,
   "metadata": {
    "collapsed": false,
    "deletable": true,
    "editable": true
   },
   "outputs": [
    {
     "name": "stdout",
     "output_type": "stream",
     "text": [
      "\n",
      "Stats of batch 1:\n",
      "Samples: 10000\n",
      "Label Counts: {0: 1005, 1: 974, 2: 1032, 3: 1016, 4: 999, 5: 937, 6: 1030, 7: 1001, 8: 1025, 9: 981}\n",
      "First 20 Labels: [6, 9, 9, 4, 1, 1, 2, 7, 8, 3, 4, 7, 7, 2, 9, 9, 9, 3, 2, 6]\n",
      "\n",
      "Example of Image 5:\n",
      "Image - Min Value: 0 Max Value: 252\n",
      "Image - Shape: (32, 32, 3)\n",
      "Label - Label Id: 1 Name: automobile\n"
     ]
    },
    {
     "data": {
      "image/png": "[encoded data removed]",
      "text/plain": [
       "<matplotlib.figure.Figure at 0x7f3086ba7a90>"
      ]
     },
     "metadata": {
      "image/png": {
       "height": 250,
       "width": 253
      }
     },
     "output_type": "display_data"
    }
   ],
   "source": [
    "%matplotlib inline\n",
    "%config InlineBackend.figure_format = 'retina'\n",
    "\n",
    "import helper\n",
    "import numpy as np\n",
    "\n",
    "# Explore the dataset\n",
    "batch_id = 1\n",
    "sample_id = 5\n",
    "helper.display_stats(cifar10_dataset_folder_path, batch_id, sample_id)"
   ]
  },
  {
   "cell_type": "markdown",
   "metadata": {
    "deletable": true,
    "editable": true
   },
   "source": [
    "## Implement Preprocess Functions\n",
    "### Normalize\n",
    "In the cell below, implement the `normalize` function to take in image data, `x`, and return it as a normalized Numpy array. The values should be in the range of 0 to 1, inclusive.  The return object should be the same shape as `x`."
   ]
  },
  {
   "cell_type": "code",
   "execution_count": 3,
   "metadata": {
    "collapsed": false,
    "deletable": true,
    "editable": true
   },
   "outputs": [
    {
     "name": "stdout",
     "output_type": "stream",
     "text": [
      "Tests Passed\n"
     ]
    }
   ],
   "source": [
    "def normalize(x):\n",
    "    \"\"\"\n",
    "    Normalize a list of sample image data in the range of 0 to 1\n",
    "    : x: List of image data.  The image shape is (32, 32, 3)\n",
    "    : return: Numpy array of normalize data\n",
    "    \"\"\"\n",
    "    # TODO: Implement Function\n",
    "    X = np.array(x);\n",
    "    X = X /255.0\n",
    "    \n",
    "    return X\n",
    "\n",
    "\n",
    "\"\"\"\n",
    "DON'T MODIFY ANYTHING IN THIS CELL THAT IS BELOW THIS LINE\n",
    "\"\"\"\n",
    "tests.test_normalize(normalize)"
   ]
  },
  {
   "cell_type": "markdown",
   "metadata": {
    "deletable": true,
    "editable": true
   },
   "source": [
    "### One-hot encode\n",
    "Just like the previous code cell, you'll be implementing a function for preprocessing.  This time, you'll implement the `one_hot_encode` function. The input, `x`, are a list of labels.  Implement the function to return the list of labels as One-Hot encoded Numpy array.  The possible values for labels are 0 to 9. The one-hot encoding function should return the same encoding for each value between each call to `one_hot_encode`.  Make sure to save the map of encodings outside the function.\n",
    "\n",
    "Hint: Don't reinvent the wheel."
   ]
  },
  {
   "cell_type": "code",
   "execution_count": 4,
   "metadata": {
    "collapsed": false,
    "deletable": true,
    "editable": true
   },
   "outputs": [
    {
     "name": "stdout",
     "output_type": "stream",
     "text": [
      "Tests Passed\n"
     ]
    }
   ],
   "source": [
    "def one_hot_encode(x):\n",
    "    \"\"\"\n",
    "    One hot encode a list of sample labels. Return a one-hot encoded vector for each label.\n",
    "    : x: List of sample Labels\n",
    "    : return: Numpy array of one-hot encoded labels\n",
    "    \"\"\"\n",
    "    # TODO: Implement Function\n",
    "    y = np.zeros([len(x), 10])\n",
    "    for i,j in enumerate(x):\n",
    "        y[i, j] = 1\n",
    "    \n",
    "    return y\n",
    "\n",
    "\n",
    "\"\"\"\n",
    "DON'T MODIFY ANYTHING IN THIS CELL THAT IS BELOW THIS LINE\n",
    "\"\"\"\n",
    "tests.test_one_hot_encode(one_hot_encode)"
   ]
  },
  {
   "cell_type": "markdown",
   "metadata": {
    "deletable": true,
    "editable": true
   },
   "source": [
    "### Randomize Data\n",
    "As you saw from exploring the data above, the order of the samples are randomized.  It doesn't hurt to randomize it again, but you don't need to for this dataset."
   ]
  },
  {
   "cell_type": "markdown",
   "metadata": {
    "deletable": true,
    "editable": true
   },
   "source": [
    "## Preprocess all the data and save it\n",
    "Running the code cell below will preprocess all the CIFAR-10 data and save it to file. The code below also uses 10% of the training data for validation."
   ]
  },
  {
   "cell_type": "code",
   "execution_count": 6,
   "metadata": {
    "collapsed": false,
    "deletable": true,
    "editable": true
   },
   "outputs": [],
   "source": [
    "\"\"\"\n",
    "DON'T MODIFY ANYTHING IN THIS CELL\n",
    "\"\"\"\n",
    "# Preprocess Training, Validation, and Testing Data\n",
    "helper.preprocess_and_save_data(cifar10_dataset_folder_path, normalize, one_hot_encode)"
   ]
  },
  {
   "cell_type": "markdown",
   "metadata": {
    "deletable": true,
    "editable": true
   },
   "source": [
    "# Check Point\n",
    "This is your first checkpoint.  If you ever decide to come back to this notebook or have to restart the notebook, you can start from here.  The preprocessed data has been saved to disk."
   ]
  },
  {
   "cell_type": "code",
   "execution_count": 7,
   "metadata": {
    "collapsed": true,
    "deletable": true,
    "editable": true
   },
   "outputs": [],
   "source": [
    "\"\"\"\n",
    "DON'T MODIFY ANYTHING IN THIS CELL\n",
    "\"\"\"\n",
    "import pickle\n",
    "import problem_unittests as tests\n",
    "import helper\n",
    "\n",
    "# Load the Preprocessed Validation data\n",
    "valid_features, valid_labels = pickle.load(open('preprocess_validation.p', mode='rb'))"
   ]
  },
  {
   "cell_type": "markdown",
   "metadata": {
    "deletable": true,
    "editable": true
   },
   "source": [
    "## Build the network\n",
    "For the neural network, you'll build each layer into a function.  Most of the code you've seen has been outside of functions. To test your code more thoroughly, we require that you put each layer in a function.  This allows us to give you better feedback and test for simple mistakes using our unittests before you submit your project.\n",
    "\n",
    "If you're finding it hard to dedicate enough time for this course a week, we've provided a small shortcut to this part of the project. In the next couple of problems, you'll have the option to use [TensorFlow Layers](https://www.tensorflow.org/api_docs/python/tf/layers) or [TensorFlow Layers (contrib)](https://www.tensorflow.org/api_guides/python/contrib.layers) to build each layer, except \"Convolutional & Max Pooling\" layer.  TF Layers is similar to Keras's and TFLearn's abstraction to layers, so it's easy to pickup.\n",
    "\n",
    "If you would like to get the most of this course, try to solve all the problems without TF Layers.  Let's begin!\n",
    "### Input\n",
    "The neural network needs to read the image data, one-hot encoded labels, and dropout keep probability. Implement the following functions\n",
    "* Implement `neural_net_image_input`\n",
    " * Return a [TF Placeholder](https://www.tensorflow.org/api_docs/python/tf/placeholder)\n",
    " * Set the shape using `image_shape` with batch size set to `None`.\n",
    " * Name the TensorFlow placeholder \"x\" using the TensorFlow `name` parameter in the [TF Placeholder](https://www.tensorflow.org/api_docs/python/tf/placeholder).\n",
    "* Implement `neural_net_label_input`\n",
    " * Return a [TF Placeholder](https://www.tensorflow.org/api_docs/python/tf/placeholder)\n",
    " * Set the shape using `n_classes` with batch size set to `None`.\n",
    " * Name the TensorFlow placeholder \"y\" using the TensorFlow `name` parameter in the [TF Placeholder](https://www.tensorflow.org/api_docs/python/tf/placeholder).\n",
    "* Implement `neural_net_keep_prob_input`\n",
    " * Return a [TF Placeholder](https://www.tensorflow.org/api_docs/python/tf/placeholder) for dropout keep probability.\n",
    " * Name the TensorFlow placeholder \"keep_prob\" using the TensorFlow `name` parameter in the [TF Placeholder](https://www.tensorflow.org/api_docs/python/tf/placeholder).\n",
    "\n",
    "These names will be used at the end of the project to load your saved model.\n",
    "\n",
    "Note: `None` for shapes in TensorFlow allow for a dynamic size."
   ]
  },
  {
   "cell_type": "code",
   "execution_count": 8,
   "metadata": {
    "collapsed": false,
    "deletable": true,
    "editable": true
   },
   "outputs": [
    {
     "name": "stdout",
     "output_type": "stream",
     "text": [
      "Image Input Tests Passed.\n",
      "Label Input Tests Passed.\n",
      "Keep Prob Tests Passed.\n"
     ]
    }
   ],
   "source": [
    "import tensorflow as tf\n",
    "\n",
    "def neural_net_image_input(image_shape):\n",
    "    \"\"\"\n",
    "    Return a Tensor for a bach of image input\n",
    "    : image_shape: Shape of the images\n",
    "    : return: Tensor for image input.\n",
    "    \"\"\"\n",
    "    # TODO: Implement Function    \n",
    "    return  tf.placeholder(tf.float32, shape=[None, image_shape[0],  image_shape[1],  image_shape[2]], name='x')\n",
    "\n",
    "\n",
    "def neural_net_label_input(n_classes):\n",
    "    \"\"\"\n",
    "    Return a Tensor for a batch of label input\n",
    "    : n_classes: Number of classes\n",
    "    : return: Tensor for label input.\n",
    "    \"\"\"\n",
    "    # TODO: Implement Function\n",
    "    return tf.placeholder(tf.float32, shape=[None, n_classes], name='y')\n",
    "\n",
    "\n",
    "def neural_net_keep_prob_input():\n",
    "    \"\"\"\n",
    "    Return a Tensor for keep probability\n",
    "    : return: Tensor for keep probability.\n",
    "    \"\"\"\n",
    "    # TODO: Implement Function\n",
    "    return tf.placeholder(tf.float32, name='keep_prob')\n",
    "\n",
    "\n",
    "\"\"\"\n",
    "DON'T MODIFY ANYTHING IN THIS CELL THAT IS BELOW THIS LINE\n",
    "\"\"\"\n",
    "tf.reset_default_graph()\n",
    "tests.test_nn_image_inputs(neural_net_image_input)\n",
    "tests.test_nn_label_inputs(neural_net_label_input)\n",
    "tests.test_nn_keep_prob_inputs(neural_net_keep_prob_input)"
   ]
  },
  {
   "cell_type": "markdown",
   "metadata": {
    "deletable": true,
    "editable": true
   },
   "source": [
    "### Convolution and Max Pooling Layer\n",
    "Convolution layers have a lot of success with images. For this code cell, you should implement the function `conv2d_maxpool` to apply convolution then max pooling:\n",
    "* Create the weight and bias using `conv_ksize`, `conv_num_outputs` and the shape of `x_tensor`.\n",
    "* Apply a convolution to `x_tensor` using weight and `conv_strides`.\n",
    " * We recommend you use same padding, but you're welcome to use any padding.\n",
    "* Add bias\n",
    "* Add a nonlinear activation to the convolution.\n",
    "* Apply Max Pooling using `pool_ksize` and `pool_strides`.\n",
    " * We recommend you use same padding, but you're welcome to use any padding.\n",
    "\n",
    "Note: You **can't** use [TensorFlow Layers](https://www.tensorflow.org/api_docs/python/tf/layers) or [TensorFlow Layers (contrib)](https://www.tensorflow.org/api_guides/python/contrib.layers) for this layer.  You're free to use any TensorFlow package for all the other layers."
   ]
  },
  {
   "cell_type": "code",
   "execution_count": 9,
   "metadata": {
    "collapsed": false,
    "deletable": true,
    "editable": true
   },
   "outputs": [
    {
     "name": "stdout",
     "output_type": "stream",
     "text": [
      "Tests Passed\n"
     ]
    }
   ],
   "source": [
    "def conv2d_maxpool(x_tensor, conv_num_outputs, conv_ksize, conv_strides, pool_ksize, pool_strides):\n",
    "    \"\"\"\n",
    "    Apply convolution then max pooling to x_tensor\n",
    "    :param x_tensor: TensorFlow Tensor\n",
    "    :param conv_num_outputs: Number of outputs for the convolutional layer\n",
    "    :param conv_strides: Stride 2-D Tuple for convolution\n",
    "    :param pool_ksize: kernal size 2-D Tuple for pool\n",
    "    :param pool_strides: Stride 2-D Tuple for pool\n",
    "    : return: A tensor that represents convolution and max pooling of x_tensor\n",
    "    \"\"\"\n",
    "    # TODO: Implement Function\n",
    "    strides =[1, conv_strides[0], conv_strides[1], 1];\n",
    "    weights = tf.Variable(tf.truncated_normal([conv_ksize[0],conv_ksize[1], x_tensor.get_shape()[3].value, conv_num_outputs], mean=0, stddev=0.01));\n",
    "    padding = 'SAME';\n",
    "    #bias = tf.Variable(tf.random_normal([conv_num_outputs]))\n",
    "    bias = tf.Variable(tf.zeros(conv_num_outputs))\n",
    "    conv  = tf.nn.conv2d(x_tensor, weights, strides, padding)\n",
    "    conv  = tf.nn.bias_add(conv, bias)\n",
    "    conv  = tf.nn.relu(conv)\n",
    "    \n",
    "    conv = tf.nn.max_pool(conv, ksize=[1, pool_ksize[0],pool_ksize[1], 1], strides=[1,pool_strides[0],pool_strides[1],1], padding='SAME')\n",
    "    return conv \n",
    "\n",
    "\n",
    "\"\"\"\n",
    "DON'T MODIFY ANYTHING IN THIS CELL THAT IS BELOW THIS LINE\n",
    "\"\"\"\n",
    "tests.test_con_pool(conv2d_maxpool)"
   ]
  },
  {
   "cell_type": "markdown",
   "metadata": {
    "deletable": true,
    "editable": true
   },
   "source": [
    "### Flatten Layer\n",
    "Implement the `flatten` function to change the dimension of `x_tensor` from a 4-D tensor to a 2-D tensor.  The output should be the shape (*Batch Size*, *Flattened Image Size*). You can use [TensorFlow Layers](https://www.tensorflow.org/api_docs/python/tf/layers) or [TensorFlow Layers (contrib)](https://www.tensorflow.org/api_guides/python/contrib.layers) for this layer."
   ]
  },
  {
   "cell_type": "code",
   "execution_count": 10,
   "metadata": {
    "collapsed": false,
    "deletable": true,
    "editable": true
   },
   "outputs": [
    {
     "name": "stdout",
     "output_type": "stream",
     "text": [
      "Tests Passed\n"
     ]
    }
   ],
   "source": [
    "def flatten(x_tensor):\n",
    "    \"\"\"\n",
    "    Flatten x_tensor to (Batch Size, Flattened Image Size)\n",
    "    : x_tensor: A tensor of size (Batch Size, ...), where ... are the image dimensions.\n",
    "    : return: A tensor of size (Batch Size, Flattened Image Size).\n",
    "    \"\"\"\n",
    "    # TODO: Implement Function\n",
    "    return tf.reshape(x_tensor, [-1, x_tensor.shape[1].value * x_tensor.shape[2].value* x_tensor.shape[3].value])\n",
    "\n",
    "\n",
    "\n",
    "\"\"\"\n",
    "DON'T MODIFY ANYTHING IN THIS CELL THAT IS BELOW THIS LINE\n",
    "\"\"\"\n",
    "tests.test_flatten(flatten)"
   ]
  },
  {
   "cell_type": "markdown",
   "metadata": {
    "deletable": true,
    "editable": true
   },
   "source": [
    "### Fully-Connected Layer\n",
    "Implement the `fully_conn` function to apply a fully connected layer to `x_tensor` with the shape (*Batch Size*, *num_outputs*). You can use [TensorFlow Layers](https://www.tensorflow.org/api_docs/python/tf/layers) or [TensorFlow Layers (contrib)](https://www.tensorflow.org/api_guides/python/contrib.layers) for this layer."
   ]
  },
  {
   "cell_type": "code",
   "execution_count": 11,
   "metadata": {
    "collapsed": false,
    "deletable": true,
    "editable": true
   },
   "outputs": [
    {
     "name": "stdout",
     "output_type": "stream",
     "text": [
      "Tests Passed\n"
     ]
    }
   ],
   "source": [
    "def fully_conn(x_tensor, num_outputs):\n",
    "    \"\"\"\n",
    "    Apply a fully connected layer to x_tensor using weight and bias\n",
    "    : x_tensor: A 2-D tensor where the first dimension is batch size.\n",
    "    : num_outputs: The number of output that the new tensor should be.\n",
    "    : return: A 2-D tensor where the second dimension is num_outputs.\n",
    "    \"\"\"\n",
    "    # TODO: Implement Function\n",
    "    weight= tf.Variable(tf.truncated_normal([x_tensor.shape[1].value, num_outputs], mean=0.0, stddev=0.1))\n",
    "    #bias =  tf.Variable(tf.random_normal([num_outputs]))\n",
    "    bias = tf.Variable(tf.zeros(num_outputs))\n",
    "    \n",
    "    return tf.nn.bias_add(tf.matmul(x_tensor, weight), bias)\n",
    "\n",
    "\n",
    "\"\"\"\n",
    "DON'T MODIFY ANYTHING IN THIS CELL THAT IS BELOW THIS LINE\n",
    "\"\"\"\n",
    "tests.test_fully_conn(fully_conn)"
   ]
  },
  {
   "cell_type": "markdown",
   "metadata": {
    "deletable": true,
    "editable": true
   },
   "source": [
    "### Output Layer\n",
    "Implement the `output` function to apply a fully connected layer to `x_tensor` with the shape (*Batch Size*, *num_outputs*). You can use [TensorFlow Layers](https://www.tensorflow.org/api_docs/python/tf/layers) or [TensorFlow Layers (contrib)](https://www.tensorflow.org/api_guides/python/contrib.layers) for this layer.\n",
    "\n",
    "Note: Activation, softmax, or cross entropy shouldn't be applied to this."
   ]
  },
  {
   "cell_type": "code",
   "execution_count": 12,
   "metadata": {
    "collapsed": false,
    "deletable": true,
    "editable": true
   },
   "outputs": [
    {
     "name": "stdout",
     "output_type": "stream",
     "text": [
      "Tests Passed\n"
     ]
    }
   ],
   "source": [
    "def output(x_tensor, num_outputs):\n",
    "    \"\"\"\n",
    "    Apply a output layer to x_tensor using weight and bias\n",
    "    : x_tensor: A 2-D tensor where the first dimension is batch size.\n",
    "    : num_outputs: The number of output that the new tensor should be.\n",
    "    : return: A 2-D tensor where the second dimension is num_outputs.\n",
    "    \"\"\"\n",
    "    # TODO: Implement Function\n",
    "    weight= tf.Variable(tf.truncated_normal([x_tensor.shape[1].value, num_outputs], mean=0.0, stddev=0.01))\n",
    "    #bias =  tf.Variable(tf.random_normal([num_outputs]))\n",
    "    bias = tf.Variable(tf.zeros(num_outputs))\n",
    "    \n",
    "    return tf.nn.bias_add(tf.matmul(x_tensor, weight), bias)\n",
    "    \n",
    "\n",
    "\n",
    "\"\"\"\n",
    "DON'T MODIFY ANYTHING IN THIS CELL THAT IS BELOW THIS LINE\n",
    "\"\"\"\n",
    "tests.test_output(output)"
   ]
  },
  {
   "cell_type": "markdown",
   "metadata": {
    "deletable": true,
    "editable": true
   },
   "source": [
    "### Create Convolutional Model\n",
    "Implement the function `conv_net` to create a convolutional neural network model. The function takes in a batch of images, `x`, and outputs logits.  Use the layers you created above to create this model:\n",
    "\n",
    "* Apply 1, 2, or 3 Convolution and Max Pool layers\n",
    "* Apply a Flatten Layer\n",
    "* Apply 1, 2, or 3 Fully Connected Layers\n",
    "* Apply an Output Layer\n",
    "* Return the output\n",
    "* Apply [TensorFlow's Dropout](https://www.tensorflow.org/api_docs/python/tf/nn/dropout) to one or more layers in the model using `keep_prob`. "
   ]
  },
  {
   "cell_type": "code",
   "execution_count": 13,
   "metadata": {
    "collapsed": false,
    "deletable": true,
    "editable": true
   },
   "outputs": [
    {
     "name": "stdout",
     "output_type": "stream",
     "text": [
      "Neural Network Built!\n"
     ]
    }
   ],
   "source": [
    "def conv_net(x, keep_prob):\n",
    "    \"\"\"\n",
    "    Create a convolutional neural network model\n",
    "    : x: Placeholder tensor that holds image data.\n",
    "    : keep_prob: Placeholder tensor that hold dropout keep probability.\n",
    "    : return: Tensor that represents logits\n",
    "    \"\"\"\n",
    "    # TODO: Apply 1, 2, or 3 Convolution and Max Pool layers\n",
    "    #    Play around with different number of outputs, kernel size and stride\n",
    "    # Function Definition from Above:\n",
    "    #    conv2d_maxpool(x_tensor, conv_num_outputs, conv_ksize, conv_strides, pool_ksize, pool_strides)\n",
    "    conv1 = conv2d_maxpool(x, 20, [5,5], [1,1], [2,2], [2,2])\n",
    "    conv2 = conv2d_maxpool(conv1, 50, conv_ksize=[3,3], conv_strides=[1,1], pool_ksize=[2,2], pool_strides=[2,2])\n",
    "    conv2 = tf.nn.dropout(conv2, keep_prob)\n",
    "    \n",
    "    conv_out = conv2\n",
    "    \n",
    "\n",
    "    # TODO: Apply a Flatten Layer\n",
    "    # Function Definition from Above:\n",
    "    #   flatten(x_tensor)\n",
    "    fl0 = flatten(conv_out)\n",
    "\n",
    "    # TODO: Apply 1, 2, or 3 Fully Connected Layers\n",
    "    #    Play around with different number of outputs\n",
    "    # Function Definition from Above:\n",
    "    #   fully_conn(x_tensor, num_outputs)\n",
    "    fl1 = fully_conn(fl0, 100)\n",
    "    fl1 = tf.nn.relu(fl1)\n",
    "    fl1 = tf.nn.dropout(fl1, keep_prob)\n",
    "    \n",
    "    fl2 = fully_conn(fl1, 50)\n",
    "    fl2= tf.nn.relu(fl2)\n",
    "    fl2 = tf.nn.dropout(fl2, keep_prob+0.2)\n",
    "    \n",
    "    \n",
    "    \n",
    "    # TODO: Apply an Output Layer\n",
    "    #    Set this to the number of classes\n",
    "    # Function Definition from Above:\n",
    "    #   output(x_tensor, num_outputs)\n",
    "    out = output(fl2,10)\n",
    "    \n",
    "    \n",
    "    # TODO: return output\n",
    "    return out\n",
    "\n",
    "\n",
    "\"\"\"\n",
    "DON'T MODIFY ANYTHING IN THIS CELL THAT IS BELOW THIS LINE\n",
    "\"\"\"\n",
    "\n",
    "##############################\n",
    "## Build the Neural Network ##\n",
    "##############################\n",
    "\n",
    "# Remove previous weights, bias, inputs, etc..\n",
    "tf.reset_default_graph()\n",
    "\n",
    "# Inputs\n",
    "x = neural_net_image_input((32, 32, 3))\n",
    "y = neural_net_label_input(10)\n",
    "keep_prob = neural_net_keep_prob_input()\n",
    "\n",
    "# Model\n",
    "logits = conv_net(x, keep_prob)\n",
    "\n",
    "# Name logits Tensor, so that is can be loaded from disk after training\n",
    "logits = tf.identity(logits, name='logits')\n",
    "\n",
    "# Loss and Optimizer\n",
    "cost = tf.reduce_mean(tf.nn.softmax_cross_entropy_with_logits(logits=logits, labels=y))\n",
    "optimizer = tf.train.AdamOptimizer().minimize(cost)\n",
    "\n",
    "# Accuracy\n",
    "correct_pred = tf.equal(tf.argmax(logits, 1), tf.argmax(y, 1))\n",
    "accuracy = tf.reduce_mean(tf.cast(correct_pred, tf.float32), name='accuracy')\n",
    "\n",
    "tests.test_conv_net(conv_net)"
   ]
  },
  {
   "cell_type": "markdown",
   "metadata": {
    "deletable": true,
    "editable": true
   },
   "source": [
    "## Train the Neural Network\n",
    "### Single Optimization\n",
    "Implement the function `train_neural_network` to do a single optimization.  The optimization should use `optimizer` to optimize in `session` with a `feed_dict` of the following:\n",
    "* `x` for image input\n",
    "* `y` for labels\n",
    "* `keep_prob` for keep probability for dropout\n",
    "\n",
    "This function will be called for each batch, so `tf.global_variables_initializer()` has already been called.\n",
    "\n",
    "Note: Nothing needs to be returned. This function is only optimizing the neural network."
   ]
  },
  {
   "cell_type": "code",
   "execution_count": 14,
   "metadata": {
    "collapsed": false,
    "deletable": true,
    "editable": true
   },
   "outputs": [
    {
     "name": "stdout",
     "output_type": "stream",
     "text": [
      "Tests Passed\n"
     ]
    }
   ],
   "source": [
    "def train_neural_network(session, optimizer, keep_probability, feature_batch, label_batch):\n",
    "    \"\"\"\n",
    "    Optimize the session on a batch of images and labels\n",
    "    : session: Current TensorFlow session\n",
    "    : optimizer: TensorFlow optimizer function\n",
    "    : keep_probability: keep probability\n",
    "    : feature_batch: Batch of Numpy image data\n",
    "    : label_batch: Batch of Numpy label data\n",
    "    \"\"\"\n",
    "    # TODO: Implement Function\n",
    "    session.run(optimizer,feed_dict={x:feature_batch, y:label_batch, keep_prob: keep_probability})\n",
    "    \n",
    "\n",
    "\n",
    "\"\"\"\n",
    "DON'T MODIFY ANYTHING IN THIS CELL THAT IS BELOW THIS LINE\n",
    "\"\"\"\n",
    "tests.test_train_nn(train_neural_network)"
   ]
  },
  {
   "cell_type": "markdown",
   "metadata": {
    "deletable": true,
    "editable": true
   },
   "source": [
    "### Show Stats\n",
    "Implement the function `print_stats` to print loss and validation accuracy.  Use the global variables `valid_features` and `valid_labels` to calculate validation accuracy.  Use a keep probability of `1.0` to calculate the loss and validation accuracy."
   ]
  },
  {
   "cell_type": "code",
   "execution_count": 15,
   "metadata": {
    "collapsed": false,
    "deletable": true,
    "editable": true
   },
   "outputs": [],
   "source": [
    "def print_stats(session, feature_batch, label_batch, cost, accuracy):\n",
    "    \"\"\"\n",
    "    Print information about loss and validation accuracy\n",
    "    : session: Current TensorFlow session\n",
    "    : feature_batch: Batch of Numpy image data\n",
    "    : label_batch: Batch of Numpy label data\n",
    "    : cost: TensorFlow cost function\n",
    "    : accuracy: TensorFlow accuracy function\n",
    "    \"\"\"\n",
    "    # TODO: Implement Function\n",
    "    loss = session.run(cost, feed_dict={x:feature_batch, y: label_batch, keep_prob:1.0 })\n",
    "    valid_acc =session.run(accuracy, feed_dict={x:feature_batch, y: label_batch, keep_prob:1.0})\n",
    "    print('Loss: {:>10.4f}  Validation Accuracy: {:.6f}'.format(loss, valid_acc))\n",
    "    "
   ]
  },
  {
   "cell_type": "markdown",
   "metadata": {
    "deletable": true,
    "editable": true
   },
   "source": [
    "### Hyperparameters\n",
    "Tune the following parameters:\n",
    "* Set `epochs` to the number of iterations until the network stops learning or start overfitting\n",
    "* Set `batch_size` to the highest number that your machine has memory for.  Most people set them to common sizes of memory:\n",
    " * 64\n",
    " * 128\n",
    " * 256\n",
    " * ...\n",
    "* Set `keep_probability` to the probability of keeping a node using dropout"
   ]
  },
  {
   "cell_type": "code",
   "execution_count": 16,
   "metadata": {
    "collapsed": true,
    "deletable": true,
    "editable": true
   },
   "outputs": [],
   "source": [
    "# TODO: Tune Parameters\n",
    "epochs = 100\n",
    "batch_size = 128\n",
    "keep_probability = 0.5"
   ]
  },
  {
   "cell_type": "markdown",
   "metadata": {
    "deletable": true,
    "editable": true
   },
   "source": [
    "### Train on a Single CIFAR-10 Batch\n",
    "Instead of training the neural network on all the CIFAR-10 batches of data, let's use a single batch. This should save time while you iterate on the model to get a better accuracy.  Once the final validation accuracy is 50% or greater, run the model on all the data in the next section."
   ]
  },
  {
   "cell_type": "code",
   "execution_count": 17,
   "metadata": {
    "collapsed": false,
    "deletable": true,
    "editable": true
   },
   "outputs": [
    {
     "name": "stdout",
     "output_type": "stream",
     "text": [
      "Checking the Training on a Single Batch...\n",
      "Epoch  1, CIFAR-10 Batch 1:  Loss:     2.2494  Validation Accuracy: 0.125000\n",
      "Epoch  2, CIFAR-10 Batch 1:  Loss:     2.2014  Validation Accuracy: 0.200000\n",
      "Epoch  3, CIFAR-10 Batch 1:  Loss:     2.1908  Validation Accuracy: 0.200000\n",
      "Epoch  4, CIFAR-10 Batch 1:  Loss:     2.1918  Validation Accuracy: 0.200000\n",
      "Epoch  5, CIFAR-10 Batch 1:  Loss:     2.1373  Validation Accuracy: 0.200000\n",
      "Epoch  6, CIFAR-10 Batch 1:  Loss:     2.1298  Validation Accuracy: 0.200000\n",
      "Epoch  7, CIFAR-10 Batch 1:  Loss:     2.1110  Validation Accuracy: 0.200000\n",
      "Epoch  8, CIFAR-10 Batch 1:  Loss:     2.0573  Validation Accuracy: 0.175000\n",
      "Epoch  9, CIFAR-10 Batch 1:  Loss:     2.0357  Validation Accuracy: 0.275000\n",
      "Epoch 10, CIFAR-10 Batch 1:  Loss:     2.0443  Validation Accuracy: 0.350000\n",
      "Epoch 11, CIFAR-10 Batch 1:  Loss:     2.0078  Validation Accuracy: 0.325000\n",
      "Epoch 12, CIFAR-10 Batch 1:  Loss:     2.0269  Validation Accuracy: 0.300000\n",
      "Epoch 13, CIFAR-10 Batch 1:  Loss:     1.9439  Validation Accuracy: 0.400000\n",
      "Epoch 14, CIFAR-10 Batch 1:  Loss:     1.9218  Validation Accuracy: 0.375000\n",
      "Epoch 15, CIFAR-10 Batch 1:  Loss:     1.9176  Validation Accuracy: 0.475000\n",
      "Epoch 16, CIFAR-10 Batch 1:  Loss:     1.9179  Validation Accuracy: 0.375000\n",
      "Epoch 17, CIFAR-10 Batch 1:  Loss:     1.7966  Validation Accuracy: 0.375000\n",
      "Epoch 18, CIFAR-10 Batch 1:  Loss:     1.8230  Validation Accuracy: 0.425000\n",
      "Epoch 19, CIFAR-10 Batch 1:  Loss:     1.7570  Validation Accuracy: 0.425000\n",
      "Epoch 20, CIFAR-10 Batch 1:  Loss:     1.7285  Validation Accuracy: 0.400000\n",
      "Epoch 21, CIFAR-10 Batch 1:  Loss:     1.7745  Validation Accuracy: 0.375000\n",
      "Epoch 22, CIFAR-10 Batch 1:  Loss:     1.6236  Validation Accuracy: 0.500000\n",
      "Epoch 23, CIFAR-10 Batch 1:  Loss:     1.6214  Validation Accuracy: 0.400000\n",
      "Epoch 24, CIFAR-10 Batch 1:  Loss:     1.5925  Validation Accuracy: 0.500000\n",
      "Epoch 25, CIFAR-10 Batch 1:  Loss:     1.6110  Validation Accuracy: 0.475000\n",
      "Epoch 26, CIFAR-10 Batch 1:  Loss:     1.5724  Validation Accuracy: 0.475000\n",
      "Epoch 27, CIFAR-10 Batch 1:  Loss:     1.5918  Validation Accuracy: 0.425000\n",
      "Epoch 28, CIFAR-10 Batch 1:  Loss:     1.5333  Validation Accuracy: 0.475000\n",
      "Epoch 29, CIFAR-10 Batch 1:  Loss:     1.4659  Validation Accuracy: 0.575000\n",
      "Epoch 30, CIFAR-10 Batch 1:  Loss:     1.4791  Validation Accuracy: 0.425000\n",
      "Epoch 31, CIFAR-10 Batch 1:  Loss:     1.3886  Validation Accuracy: 0.550000\n",
      "Epoch 32, CIFAR-10 Batch 1:  Loss:     1.3899  Validation Accuracy: 0.525000\n",
      "Epoch 33, CIFAR-10 Batch 1:  Loss:     1.3732  Validation Accuracy: 0.500000\n",
      "Epoch 34, CIFAR-10 Batch 1:  Loss:     1.3690  Validation Accuracy: 0.575000\n",
      "Epoch 35, CIFAR-10 Batch 1:  Loss:     1.3594  Validation Accuracy: 0.550000\n",
      "Epoch 36, CIFAR-10 Batch 1:  Loss:     1.3181  Validation Accuracy: 0.525000\n",
      "Epoch 37, CIFAR-10 Batch 1:  Loss:     1.2891  Validation Accuracy: 0.575000\n",
      "Epoch 38, CIFAR-10 Batch 1:  Loss:     1.2589  Validation Accuracy: 0.475000\n",
      "Epoch 39, CIFAR-10 Batch 1:  Loss:     1.2575  Validation Accuracy: 0.525000\n",
      "Epoch 40, CIFAR-10 Batch 1:  Loss:     1.2451  Validation Accuracy: 0.575000\n",
      "Epoch 41, CIFAR-10 Batch 1:  Loss:     1.2735  Validation Accuracy: 0.525000\n",
      "Epoch 42, CIFAR-10 Batch 1:  Loss:     1.1830  Validation Accuracy: 0.575000\n",
      "Epoch 43, CIFAR-10 Batch 1:  Loss:     1.1879  Validation Accuracy: 0.575000\n",
      "Epoch 44, CIFAR-10 Batch 1:  Loss:     1.2490  Validation Accuracy: 0.575000\n",
      "Epoch 45, CIFAR-10 Batch 1:  Loss:     1.1710  Validation Accuracy: 0.600000\n",
      "Epoch 46, CIFAR-10 Batch 1:  Loss:     1.2107  Validation Accuracy: 0.575000\n",
      "Epoch 47, CIFAR-10 Batch 1:  Loss:     1.1564  Validation Accuracy: 0.650000\n",
      "Epoch 48, CIFAR-10 Batch 1:  Loss:     1.1588  Validation Accuracy: 0.550000\n",
      "Epoch 49, CIFAR-10 Batch 1:  Loss:     1.1572  Validation Accuracy: 0.625000\n",
      "Epoch 50, CIFAR-10 Batch 1:  Loss:     1.1226  Validation Accuracy: 0.625000\n",
      "Epoch 51, CIFAR-10 Batch 1:  Loss:     1.1020  Validation Accuracy: 0.675000\n",
      "Epoch 52, CIFAR-10 Batch 1:  Loss:     1.0868  Validation Accuracy: 0.650000\n",
      "Epoch 53, CIFAR-10 Batch 1:  Loss:     1.0817  Validation Accuracy: 0.650000\n",
      "Epoch 54, CIFAR-10 Batch 1:  Loss:     1.0821  Validation Accuracy: 0.650000\n",
      "Epoch 55, CIFAR-10 Batch 1:  Loss:     1.0498  Validation Accuracy: 0.650000\n",
      "Epoch 56, CIFAR-10 Batch 1:  Loss:     1.0397  Validation Accuracy: 0.700000\n",
      "Epoch 57, CIFAR-10 Batch 1:  Loss:     1.0094  Validation Accuracy: 0.675000\n",
      "Epoch 58, CIFAR-10 Batch 1:  Loss:     0.9971  Validation Accuracy: 0.700000\n",
      "Epoch 59, CIFAR-10 Batch 1:  Loss:     1.0158  Validation Accuracy: 0.625000\n",
      "Epoch 60, CIFAR-10 Batch 1:  Loss:     0.9677  Validation Accuracy: 0.725000\n",
      "Epoch 61, CIFAR-10 Batch 1:  Loss:     1.0121  Validation Accuracy: 0.725000\n",
      "Epoch 62, CIFAR-10 Batch 1:  Loss:     0.9536  Validation Accuracy: 0.650000\n",
      "Epoch 63, CIFAR-10 Batch 1:  Loss:     0.9675  Validation Accuracy: 0.725000\n",
      "Epoch 64, CIFAR-10 Batch 1:  Loss:     0.9553  Validation Accuracy: 0.725000\n",
      "Epoch 65, CIFAR-10 Batch 1:  Loss:     0.9566  Validation Accuracy: 0.675000\n",
      "Epoch 66, CIFAR-10 Batch 1:  Loss:     0.9343  Validation Accuracy: 0.725000\n",
      "Epoch 67, CIFAR-10 Batch 1:  Loss:     0.9290  Validation Accuracy: 0.750000\n",
      "Epoch 68, CIFAR-10 Batch 1:  Loss:     0.9103  Validation Accuracy: 0.725000\n",
      "Epoch 69, CIFAR-10 Batch 1:  Loss:     0.9283  Validation Accuracy: 0.650000\n",
      "Epoch 70, CIFAR-10 Batch 1:  Loss:     0.8968  Validation Accuracy: 0.750000\n",
      "Epoch 71, CIFAR-10 Batch 1:  Loss:     0.9005  Validation Accuracy: 0.700000\n",
      "Epoch 72, CIFAR-10 Batch 1:  Loss:     0.9038  Validation Accuracy: 0.700000\n",
      "Epoch 73, CIFAR-10 Batch 1:  Loss:     0.8306  Validation Accuracy: 0.700000\n",
      "Epoch 74, CIFAR-10 Batch 1:  Loss:     0.8546  Validation Accuracy: 0.675000\n",
      "Epoch 75, CIFAR-10 Batch 1:  Loss:     0.8428  Validation Accuracy: 0.725000\n",
      "Epoch 76, CIFAR-10 Batch 1:  Loss:     0.8435  Validation Accuracy: 0.700000\n",
      "Epoch 77, CIFAR-10 Batch 1:  Loss:     0.8020  Validation Accuracy: 0.675000\n",
      "Epoch 78, CIFAR-10 Batch 1:  Loss:     0.7796  Validation Accuracy: 0.750000\n",
      "Epoch 79, CIFAR-10 Batch 1:  Loss:     0.7774  Validation Accuracy: 0.725000\n",
      "Epoch 80, CIFAR-10 Batch 1:  Loss:     0.7790  Validation Accuracy: 0.775000\n",
      "Epoch 81, CIFAR-10 Batch 1:  Loss:     0.7868  Validation Accuracy: 0.725000\n",
      "Epoch 82, CIFAR-10 Batch 1:  Loss:     0.7776  Validation Accuracy: 0.725000\n",
      "Epoch 83, CIFAR-10 Batch 1:  Loss:     0.7566  Validation Accuracy: 0.775000\n",
      "Epoch 84, CIFAR-10 Batch 1:  Loss:     0.7268  Validation Accuracy: 0.825000\n",
      "Epoch 85, CIFAR-10 Batch 1:  Loss:     0.7714  Validation Accuracy: 0.775000\n",
      "Epoch 86, CIFAR-10 Batch 1:  Loss:     0.7531  Validation Accuracy: 0.700000\n",
      "Epoch 87, CIFAR-10 Batch 1:  Loss:     0.7265  Validation Accuracy: 0.750000\n",
      "Epoch 88, CIFAR-10 Batch 1:  Loss:     0.6972  Validation Accuracy: 0.725000\n",
      "Epoch 89, CIFAR-10 Batch 1:  Loss:     0.7120  Validation Accuracy: 0.750000\n",
      "Epoch 90, CIFAR-10 Batch 1:  Loss:     0.7019  Validation Accuracy: 0.700000\n",
      "Epoch 91, CIFAR-10 Batch 1:  Loss:     0.6980  Validation Accuracy: 0.775000\n",
      "Epoch 92, CIFAR-10 Batch 1:  Loss:     0.7223  Validation Accuracy: 0.750000\n",
      "Epoch 93, CIFAR-10 Batch 1:  Loss:     0.6505  Validation Accuracy: 0.825000\n",
      "Epoch 94, CIFAR-10 Batch 1:  Loss:     0.7033  Validation Accuracy: 0.775000\n",
      "Epoch 95, CIFAR-10 Batch 1:  Loss:     0.6435  Validation Accuracy: 0.850000\n",
      "Epoch 96, CIFAR-10 Batch 1:  Loss:     0.6671  Validation Accuracy: 0.825000\n",
      "Epoch 97, CIFAR-10 Batch 1:  Loss:     0.6370  Validation Accuracy: 0.875000\n",
      "Epoch 98, CIFAR-10 Batch 1:  Loss:     0.6281  Validation Accuracy: 0.825000\n",
      "Epoch 99, CIFAR-10 Batch 1:  Loss:     0.5930  Validation Accuracy: 0.850000\n",
      "Epoch 100, CIFAR-10 Batch 1:  Loss:     0.5952  Validation Accuracy: 0.850000\n"
     ]
    }
   ],
   "source": [
    "\"\"\"\n",
    "DON'T MODIFY ANYTHING IN THIS CELL\n",
    "\"\"\"\n",
    "print('Checking the Training on a Single Batch...')\n",
    "with tf.Session() as sess:\n",
    "    # Initializing the variables\n",
    "    sess.run(tf.global_variables_initializer())\n",
    "    \n",
    "    # Training cycle\n",
    "    for epoch in range(epochs):\n",
    "        batch_i = 1\n",
    "        for batch_features, batch_labels in helper.load_preprocess_training_batch(batch_i, batch_size):\n",
    "            train_neural_network(sess, optimizer, keep_probability, batch_features, batch_labels)\n",
    "        print('Epoch {:>2}, CIFAR-10 Batch {}:  '.format(epoch + 1, batch_i), end='')\n",
    "        print_stats(sess, batch_features, batch_labels, cost, accuracy)"
   ]
  },
  {
   "cell_type": "markdown",
   "metadata": {
    "deletable": true,
    "editable": true
   },
   "source": [
    "### Fully Train the Model\n",
    "Now that you got a good accuracy with a single CIFAR-10 batch, try it with all five batches."
   ]
  },
  {
   "cell_type": "code",
   "execution_count": 18,
   "metadata": {
    "collapsed": false,
    "deletable": true,
    "editable": true
   },
   "outputs": [
    {
     "name": "stdout",
     "output_type": "stream",
     "text": [
      "Training...\n",
      "Epoch  1, CIFAR-10 Batch 1:  Loss:     2.2372  Validation Accuracy: 0.175000\n",
      "Epoch  1, CIFAR-10 Batch 2:  Loss:     2.1159  Validation Accuracy: 0.250000\n",
      "Epoch  1, CIFAR-10 Batch 3:  Loss:     1.8265  Validation Accuracy: 0.250000\n",
      "Epoch  1, CIFAR-10 Batch 4:  Loss:     1.9403  Validation Accuracy: 0.200000\n",
      "Epoch  1, CIFAR-10 Batch 5:  Loss:     2.0371  Validation Accuracy: 0.300000\n",
      "Epoch  2, CIFAR-10 Batch 1:  Loss:     2.0901  Validation Accuracy: 0.225000\n",
      "Epoch  2, CIFAR-10 Batch 2:  Loss:     1.8653  Validation Accuracy: 0.300000\n",
      "Epoch  2, CIFAR-10 Batch 3:  Loss:     1.6902  Validation Accuracy: 0.300000\n",
      "Epoch  2, CIFAR-10 Batch 4:  Loss:     1.6970  Validation Accuracy: 0.350000\n",
      "Epoch  2, CIFAR-10 Batch 5:  Loss:     1.8290  Validation Accuracy: 0.400000\n",
      "Epoch  3, CIFAR-10 Batch 1:  Loss:     1.9584  Validation Accuracy: 0.400000\n",
      "Epoch  3, CIFAR-10 Batch 2:  Loss:     1.6981  Validation Accuracy: 0.450000\n",
      "Epoch  3, CIFAR-10 Batch 3:  Loss:     1.5174  Validation Accuracy: 0.400000\n",
      "Epoch  3, CIFAR-10 Batch 4:  Loss:     1.6707  Validation Accuracy: 0.400000\n",
      "Epoch  3, CIFAR-10 Batch 5:  Loss:     1.7258  Validation Accuracy: 0.375000\n",
      "Epoch  4, CIFAR-10 Batch 1:  Loss:     1.8978  Validation Accuracy: 0.375000\n",
      "Epoch  4, CIFAR-10 Batch 2:  Loss:     1.6436  Validation Accuracy: 0.450000\n",
      "Epoch  4, CIFAR-10 Batch 3:  Loss:     1.3347  Validation Accuracy: 0.500000\n",
      "Epoch  4, CIFAR-10 Batch 4:  Loss:     1.5465  Validation Accuracy: 0.475000\n",
      "Epoch  4, CIFAR-10 Batch 5:  Loss:     1.7128  Validation Accuracy: 0.350000\n",
      "Epoch  5, CIFAR-10 Batch 1:  Loss:     1.7834  Validation Accuracy: 0.450000\n",
      "Epoch  5, CIFAR-10 Batch 2:  Loss:     1.5324  Validation Accuracy: 0.475000\n",
      "Epoch  5, CIFAR-10 Batch 3:  Loss:     1.3045  Validation Accuracy: 0.500000\n",
      "Epoch  5, CIFAR-10 Batch 4:  Loss:     1.5257  Validation Accuracy: 0.450000\n",
      "Epoch  5, CIFAR-10 Batch 5:  Loss:     1.6566  Validation Accuracy: 0.350000\n",
      "Epoch  6, CIFAR-10 Batch 1:  Loss:     1.6781  Validation Accuracy: 0.450000\n",
      "Epoch  6, CIFAR-10 Batch 2:  Loss:     1.4960  Validation Accuracy: 0.450000\n",
      "Epoch  6, CIFAR-10 Batch 3:  Loss:     1.2534  Validation Accuracy: 0.625000\n",
      "Epoch  6, CIFAR-10 Batch 4:  Loss:     1.4849  Validation Accuracy: 0.450000\n",
      "Epoch  6, CIFAR-10 Batch 5:  Loss:     1.5666  Validation Accuracy: 0.425000\n",
      "Epoch  7, CIFAR-10 Batch 1:  Loss:     1.6567  Validation Accuracy: 0.450000\n",
      "Epoch  7, CIFAR-10 Batch 2:  Loss:     1.4982  Validation Accuracy: 0.450000\n",
      "Epoch  7, CIFAR-10 Batch 3:  Loss:     1.2312  Validation Accuracy: 0.525000\n",
      "Epoch  7, CIFAR-10 Batch 4:  Loss:     1.3948  Validation Accuracy: 0.475000\n",
      "Epoch  7, CIFAR-10 Batch 5:  Loss:     1.4844  Validation Accuracy: 0.525000\n",
      "Epoch  8, CIFAR-10 Batch 1:  Loss:     1.4992  Validation Accuracy: 0.500000\n",
      "Epoch  8, CIFAR-10 Batch 2:  Loss:     1.4430  Validation Accuracy: 0.450000\n",
      "Epoch  8, CIFAR-10 Batch 3:  Loss:     1.1821  Validation Accuracy: 0.600000\n",
      "Epoch  8, CIFAR-10 Batch 4:  Loss:     1.3232  Validation Accuracy: 0.525000\n",
      "Epoch  8, CIFAR-10 Batch 5:  Loss:     1.5045  Validation Accuracy: 0.450000\n",
      "Epoch  9, CIFAR-10 Batch 1:  Loss:     1.4528  Validation Accuracy: 0.475000\n",
      "Epoch  9, CIFAR-10 Batch 2:  Loss:     1.3198  Validation Accuracy: 0.500000\n",
      "Epoch  9, CIFAR-10 Batch 3:  Loss:     1.1375  Validation Accuracy: 0.675000\n",
      "Epoch  9, CIFAR-10 Batch 4:  Loss:     1.2914  Validation Accuracy: 0.500000\n",
      "Epoch  9, CIFAR-10 Batch 5:  Loss:     1.3866  Validation Accuracy: 0.575000\n",
      "Epoch 10, CIFAR-10 Batch 1:  Loss:     1.4518  Validation Accuracy: 0.500000\n",
      "Epoch 10, CIFAR-10 Batch 2:  Loss:     1.2343  Validation Accuracy: 0.450000\n",
      "Epoch 10, CIFAR-10 Batch 3:  Loss:     1.0788  Validation Accuracy: 0.600000\n",
      "Epoch 10, CIFAR-10 Batch 4:  Loss:     1.2644  Validation Accuracy: 0.525000\n",
      "Epoch 10, CIFAR-10 Batch 5:  Loss:     1.3806  Validation Accuracy: 0.475000\n",
      "Epoch 11, CIFAR-10 Batch 1:  Loss:     1.4010  Validation Accuracy: 0.475000\n",
      "Epoch 11, CIFAR-10 Batch 2:  Loss:     1.1698  Validation Accuracy: 0.525000\n",
      "Epoch 11, CIFAR-10 Batch 3:  Loss:     1.0516  Validation Accuracy: 0.625000\n",
      "Epoch 11, CIFAR-10 Batch 4:  Loss:     1.2707  Validation Accuracy: 0.600000\n",
      "Epoch 11, CIFAR-10 Batch 5:  Loss:     1.3157  Validation Accuracy: 0.525000\n",
      "Epoch 12, CIFAR-10 Batch 1:  Loss:     1.3599  Validation Accuracy: 0.525000\n",
      "Epoch 12, CIFAR-10 Batch 2:  Loss:     1.2074  Validation Accuracy: 0.500000\n",
      "Epoch 12, CIFAR-10 Batch 3:  Loss:     1.0208  Validation Accuracy: 0.675000\n",
      "Epoch 12, CIFAR-10 Batch 4:  Loss:     1.1853  Validation Accuracy: 0.525000\n",
      "Epoch 12, CIFAR-10 Batch 5:  Loss:     1.4117  Validation Accuracy: 0.500000\n",
      "Epoch 13, CIFAR-10 Batch 1:  Loss:     1.3349  Validation Accuracy: 0.600000\n",
      "Epoch 13, CIFAR-10 Batch 2:  Loss:     1.1597  Validation Accuracy: 0.550000\n",
      "Epoch 13, CIFAR-10 Batch 3:  Loss:     1.0171  Validation Accuracy: 0.600000\n",
      "Epoch 13, CIFAR-10 Batch 4:  Loss:     1.2106  Validation Accuracy: 0.550000\n",
      "Epoch 13, CIFAR-10 Batch 5:  Loss:     1.2947  Validation Accuracy: 0.575000\n",
      "Epoch 14, CIFAR-10 Batch 1:  Loss:     1.2076  Validation Accuracy: 0.575000\n",
      "Epoch 14, CIFAR-10 Batch 2:  Loss:     1.1071  Validation Accuracy: 0.500000\n",
      "Epoch 14, CIFAR-10 Batch 3:  Loss:     0.9761  Validation Accuracy: 0.700000\n",
      "Epoch 14, CIFAR-10 Batch 4:  Loss:     1.2030  Validation Accuracy: 0.550000\n",
      "Epoch 14, CIFAR-10 Batch 5:  Loss:     1.1791  Validation Accuracy: 0.625000\n",
      "Epoch 15, CIFAR-10 Batch 1:  Loss:     1.1880  Validation Accuracy: 0.600000\n",
      "Epoch 15, CIFAR-10 Batch 2:  Loss:     1.1040  Validation Accuracy: 0.625000\n",
      "Epoch 15, CIFAR-10 Batch 3:  Loss:     0.9098  Validation Accuracy: 0.700000\n",
      "Epoch 15, CIFAR-10 Batch 4:  Loss:     1.1678  Validation Accuracy: 0.525000\n",
      "Epoch 15, CIFAR-10 Batch 5:  Loss:     1.1658  Validation Accuracy: 0.625000\n",
      "Epoch 16, CIFAR-10 Batch 1:  Loss:     1.1826  Validation Accuracy: 0.600000\n",
      "Epoch 16, CIFAR-10 Batch 2:  Loss:     1.0819  Validation Accuracy: 0.575000\n",
      "Epoch 16, CIFAR-10 Batch 3:  Loss:     0.9023  Validation Accuracy: 0.725000\n",
      "Epoch 16, CIFAR-10 Batch 4:  Loss:     1.0694  Validation Accuracy: 0.500000\n",
      "Epoch 16, CIFAR-10 Batch 5:  Loss:     1.1970  Validation Accuracy: 0.600000\n",
      "Epoch 17, CIFAR-10 Batch 1:  Loss:     1.1248  Validation Accuracy: 0.550000\n",
      "Epoch 17, CIFAR-10 Batch 2:  Loss:     1.0210  Validation Accuracy: 0.550000\n",
      "Epoch 17, CIFAR-10 Batch 3:  Loss:     0.8670  Validation Accuracy: 0.700000\n",
      "Epoch 17, CIFAR-10 Batch 4:  Loss:     1.0768  Validation Accuracy: 0.575000\n",
      "Epoch 17, CIFAR-10 Batch 5:  Loss:     1.1513  Validation Accuracy: 0.625000\n",
      "Epoch 18, CIFAR-10 Batch 1:  Loss:     1.1189  Validation Accuracy: 0.600000\n",
      "Epoch 18, CIFAR-10 Batch 2:  Loss:     1.0376  Validation Accuracy: 0.575000\n",
      "Epoch 18, CIFAR-10 Batch 3:  Loss:     0.8438  Validation Accuracy: 0.725000\n",
      "Epoch 18, CIFAR-10 Batch 4:  Loss:     1.1000  Validation Accuracy: 0.575000\n",
      "Epoch 18, CIFAR-10 Batch 5:  Loss:     1.1739  Validation Accuracy: 0.625000\n",
      "Epoch 19, CIFAR-10 Batch 1:  Loss:     1.1321  Validation Accuracy: 0.625000\n",
      "Epoch 19, CIFAR-10 Batch 2:  Loss:     1.0323  Validation Accuracy: 0.550000\n",
      "Epoch 19, CIFAR-10 Batch 3:  Loss:     0.9008  Validation Accuracy: 0.725000\n",
      "Epoch 19, CIFAR-10 Batch 4:  Loss:     1.0743  Validation Accuracy: 0.525000\n",
      "Epoch 19, CIFAR-10 Batch 5:  Loss:     1.0968  Validation Accuracy: 0.700000\n",
      "Epoch 20, CIFAR-10 Batch 1:  Loss:     1.0750  Validation Accuracy: 0.625000\n",
      "Epoch 20, CIFAR-10 Batch 2:  Loss:     0.9619  Validation Accuracy: 0.575000\n",
      "Epoch 20, CIFAR-10 Batch 3:  Loss:     0.8913  Validation Accuracy: 0.675000\n",
      "Epoch 20, CIFAR-10 Batch 4:  Loss:     1.0874  Validation Accuracy: 0.550000\n",
      "Epoch 20, CIFAR-10 Batch 5:  Loss:     1.0529  Validation Accuracy: 0.725000\n",
      "Epoch 21, CIFAR-10 Batch 1:  Loss:     1.0681  Validation Accuracy: 0.625000\n",
      "Epoch 21, CIFAR-10 Batch 2:  Loss:     0.9642  Validation Accuracy: 0.625000\n",
      "Epoch 21, CIFAR-10 Batch 3:  Loss:     0.8364  Validation Accuracy: 0.725000\n",
      "Epoch 21, CIFAR-10 Batch 4:  Loss:     1.0148  Validation Accuracy: 0.600000\n",
      "Epoch 21, CIFAR-10 Batch 5:  Loss:     0.9799  Validation Accuracy: 0.725000\n",
      "Epoch 22, CIFAR-10 Batch 1:  Loss:     1.0604  Validation Accuracy: 0.600000\n",
      "Epoch 22, CIFAR-10 Batch 2:  Loss:     0.9296  Validation Accuracy: 0.575000\n",
      "Epoch 22, CIFAR-10 Batch 3:  Loss:     0.7896  Validation Accuracy: 0.700000\n",
      "Epoch 22, CIFAR-10 Batch 4:  Loss:     0.9731  Validation Accuracy: 0.625000\n",
      "Epoch 22, CIFAR-10 Batch 5:  Loss:     1.0022  Validation Accuracy: 0.675000\n",
      "Epoch 23, CIFAR-10 Batch 1:  Loss:     1.0198  Validation Accuracy: 0.625000\n",
      "Epoch 23, CIFAR-10 Batch 2:  Loss:     0.9040  Validation Accuracy: 0.650000\n",
      "Epoch 23, CIFAR-10 Batch 3:  Loss:     0.8123  Validation Accuracy: 0.775000\n",
      "Epoch 23, CIFAR-10 Batch 4:  Loss:     1.0161  Validation Accuracy: 0.650000\n",
      "Epoch 23, CIFAR-10 Batch 5:  Loss:     0.9761  Validation Accuracy: 0.775000\n",
      "Epoch 24, CIFAR-10 Batch 1:  Loss:     0.9990  Validation Accuracy: 0.625000\n",
      "Epoch 24, CIFAR-10 Batch 2:  Loss:     0.8987  Validation Accuracy: 0.700000\n",
      "Epoch 24, CIFAR-10 Batch 3:  Loss:     0.7428  Validation Accuracy: 0.800000\n",
      "Epoch 24, CIFAR-10 Batch 4:  Loss:     1.0154  Validation Accuracy: 0.600000\n",
      "Epoch 24, CIFAR-10 Batch 5:  Loss:     0.9433  Validation Accuracy: 0.725000\n",
      "Epoch 25, CIFAR-10 Batch 1:  Loss:     1.0085  Validation Accuracy: 0.650000\n",
      "Epoch 25, CIFAR-10 Batch 2:  Loss:     0.8659  Validation Accuracy: 0.675000\n",
      "Epoch 25, CIFAR-10 Batch 3:  Loss:     0.7093  Validation Accuracy: 0.750000\n",
      "Epoch 25, CIFAR-10 Batch 4:  Loss:     0.9243  Validation Accuracy: 0.675000\n",
      "Epoch 25, CIFAR-10 Batch 5:  Loss:     0.9473  Validation Accuracy: 0.725000\n",
      "Epoch 26, CIFAR-10 Batch 1:  Loss:     0.9832  Validation Accuracy: 0.650000\n",
      "Epoch 26, CIFAR-10 Batch 2:  Loss:     0.8886  Validation Accuracy: 0.675000\n",
      "Epoch 26, CIFAR-10 Batch 3:  Loss:     0.7711  Validation Accuracy: 0.750000\n",
      "Epoch 26, CIFAR-10 Batch 4:  Loss:     0.9372  Validation Accuracy: 0.700000\n",
      "Epoch 26, CIFAR-10 Batch 5:  Loss:     0.9010  Validation Accuracy: 0.750000\n",
      "Epoch 27, CIFAR-10 Batch 1:  Loss:     1.0854  Validation Accuracy: 0.600000\n",
      "Epoch 27, CIFAR-10 Batch 2:  Loss:     0.8675  Validation Accuracy: 0.650000\n",
      "Epoch 27, CIFAR-10 Batch 3:  Loss:     0.7396  Validation Accuracy: 0.725000\n",
      "Epoch 27, CIFAR-10 Batch 4:  Loss:     1.0215  Validation Accuracy: 0.625000\n",
      "Epoch 27, CIFAR-10 Batch 5:  Loss:     0.9058  Validation Accuracy: 0.725000\n",
      "Epoch 28, CIFAR-10 Batch 1:  Loss:     0.9924  Validation Accuracy: 0.650000\n",
      "Epoch 28, CIFAR-10 Batch 2:  Loss:     0.9031  Validation Accuracy: 0.550000\n",
      "Epoch 28, CIFAR-10 Batch 3:  Loss:     0.6939  Validation Accuracy: 0.725000\n",
      "Epoch 28, CIFAR-10 Batch 4:  Loss:     0.9212  Validation Accuracy: 0.700000\n",
      "Epoch 28, CIFAR-10 Batch 5:  Loss:     0.9071  Validation Accuracy: 0.725000\n",
      "Epoch 29, CIFAR-10 Batch 1:  Loss:     0.9497  Validation Accuracy: 0.625000\n",
      "Epoch 29, CIFAR-10 Batch 2:  Loss:     0.8592  Validation Accuracy: 0.675000\n",
      "Epoch 29, CIFAR-10 Batch 3:  Loss:     0.6996  Validation Accuracy: 0.750000\n",
      "Epoch 29, CIFAR-10 Batch 4:  Loss:     0.9380  Validation Accuracy: 0.675000\n",
      "Epoch 29, CIFAR-10 Batch 5:  Loss:     0.8502  Validation Accuracy: 0.700000\n",
      "Epoch 30, CIFAR-10 Batch 1:  Loss:     0.8743  Validation Accuracy: 0.675000\n",
      "Epoch 30, CIFAR-10 Batch 2:  Loss:     0.8550  Validation Accuracy: 0.625000\n",
      "Epoch 30, CIFAR-10 Batch 3:  Loss:     0.7263  Validation Accuracy: 0.750000\n",
      "Epoch 30, CIFAR-10 Batch 4:  Loss:     0.8936  Validation Accuracy: 0.700000\n",
      "Epoch 30, CIFAR-10 Batch 5:  Loss:     0.8132  Validation Accuracy: 0.775000\n",
      "Epoch 31, CIFAR-10 Batch 1:  Loss:     0.9263  Validation Accuracy: 0.650000\n",
      "Epoch 31, CIFAR-10 Batch 2:  Loss:     0.8591  Validation Accuracy: 0.750000\n",
      "Epoch 31, CIFAR-10 Batch 3:  Loss:     0.7050  Validation Accuracy: 0.750000\n",
      "Epoch 31, CIFAR-10 Batch 4:  Loss:     0.9091  Validation Accuracy: 0.650000\n",
      "Epoch 31, CIFAR-10 Batch 5:  Loss:     0.8144  Validation Accuracy: 0.800000\n",
      "Epoch 32, CIFAR-10 Batch 1:  Loss:     0.8771  Validation Accuracy: 0.675000\n",
      "Epoch 32, CIFAR-10 Batch 2:  Loss:     0.8745  Validation Accuracy: 0.625000\n",
      "Epoch 32, CIFAR-10 Batch 3:  Loss:     0.6537  Validation Accuracy: 0.800000\n",
      "Epoch 32, CIFAR-10 Batch 4:  Loss:     0.8576  Validation Accuracy: 0.675000\n",
      "Epoch 32, CIFAR-10 Batch 5:  Loss:     0.8889  Validation Accuracy: 0.750000\n",
      "Epoch 33, CIFAR-10 Batch 1:  Loss:     0.8721  Validation Accuracy: 0.725000\n",
      "Epoch 33, CIFAR-10 Batch 2:  Loss:     0.8246  Validation Accuracy: 0.625000\n",
      "Epoch 33, CIFAR-10 Batch 3:  Loss:     0.6586  Validation Accuracy: 0.800000\n",
      "Epoch 33, CIFAR-10 Batch 4:  Loss:     0.8588  Validation Accuracy: 0.725000\n",
      "Epoch 33, CIFAR-10 Batch 5:  Loss:     0.8173  Validation Accuracy: 0.775000\n",
      "Epoch 34, CIFAR-10 Batch 1:  Loss:     0.8732  Validation Accuracy: 0.700000\n",
      "Epoch 34, CIFAR-10 Batch 2:  Loss:     0.8139  Validation Accuracy: 0.650000\n",
      "Epoch 34, CIFAR-10 Batch 3:  Loss:     0.6582  Validation Accuracy: 0.850000\n",
      "Epoch 34, CIFAR-10 Batch 4:  Loss:     0.8349  Validation Accuracy: 0.725000\n",
      "Epoch 34, CIFAR-10 Batch 5:  Loss:     0.8087  Validation Accuracy: 0.750000\n",
      "Epoch 35, CIFAR-10 Batch 1:  Loss:     0.9060  Validation Accuracy: 0.600000\n",
      "Epoch 35, CIFAR-10 Batch 2:  Loss:     0.8454  Validation Accuracy: 0.625000\n",
      "Epoch 35, CIFAR-10 Batch 3:  Loss:     0.6073  Validation Accuracy: 0.850000\n",
      "Epoch 35, CIFAR-10 Batch 4:  Loss:     0.8491  Validation Accuracy: 0.650000\n",
      "Epoch 35, CIFAR-10 Batch 5:  Loss:     0.8406  Validation Accuracy: 0.800000\n",
      "Epoch 36, CIFAR-10 Batch 1:  Loss:     0.8547  Validation Accuracy: 0.700000\n",
      "Epoch 36, CIFAR-10 Batch 2:  Loss:     0.7701  Validation Accuracy: 0.675000\n",
      "Epoch 36, CIFAR-10 Batch 3:  Loss:     0.6226  Validation Accuracy: 0.850000\n",
      "Epoch 36, CIFAR-10 Batch 4:  Loss:     0.8341  Validation Accuracy: 0.675000\n",
      "Epoch 36, CIFAR-10 Batch 5:  Loss:     0.7707  Validation Accuracy: 0.750000\n",
      "Epoch 37, CIFAR-10 Batch 1:  Loss:     0.8775  Validation Accuracy: 0.700000\n",
      "Epoch 37, CIFAR-10 Batch 2:  Loss:     0.7966  Validation Accuracy: 0.600000\n",
      "Epoch 37, CIFAR-10 Batch 3:  Loss:     0.6212  Validation Accuracy: 0.775000\n",
      "Epoch 37, CIFAR-10 Batch 4:  Loss:     0.7670  Validation Accuracy: 0.725000\n",
      "Epoch 37, CIFAR-10 Batch 5:  Loss:     0.8222  Validation Accuracy: 0.825000\n",
      "Epoch 38, CIFAR-10 Batch 1:  Loss:     0.8690  Validation Accuracy: 0.625000\n",
      "Epoch 38, CIFAR-10 Batch 2:  Loss:     0.7881  Validation Accuracy: 0.675000\n",
      "Epoch 38, CIFAR-10 Batch 3:  Loss:     0.6473  Validation Accuracy: 0.825000\n",
      "Epoch 38, CIFAR-10 Batch 4:  Loss:     0.7731  Validation Accuracy: 0.775000\n",
      "Epoch 38, CIFAR-10 Batch 5:  Loss:     0.7262  Validation Accuracy: 0.850000\n",
      "Epoch 39, CIFAR-10 Batch 1:  Loss:     0.8767  Validation Accuracy: 0.700000\n",
      "Epoch 39, CIFAR-10 Batch 2:  Loss:     0.8282  Validation Accuracy: 0.700000\n",
      "Epoch 39, CIFAR-10 Batch 3:  Loss:     0.6047  Validation Accuracy: 0.800000\n",
      "Epoch 39, CIFAR-10 Batch 4:  Loss:     0.8041  Validation Accuracy: 0.775000\n",
      "Epoch 39, CIFAR-10 Batch 5:  Loss:     0.8059  Validation Accuracy: 0.800000\n",
      "Epoch 40, CIFAR-10 Batch 1:  Loss:     0.8656  Validation Accuracy: 0.725000\n",
      "Epoch 40, CIFAR-10 Batch 2:  Loss:     0.8171  Validation Accuracy: 0.650000\n",
      "Epoch 40, CIFAR-10 Batch 3:  Loss:     0.5874  Validation Accuracy: 0.825000\n",
      "Epoch 40, CIFAR-10 Batch 4:  Loss:     0.8192  Validation Accuracy: 0.700000\n",
      "Epoch 40, CIFAR-10 Batch 5:  Loss:     0.7627  Validation Accuracy: 0.850000\n",
      "Epoch 41, CIFAR-10 Batch 1:  Loss:     0.8940  Validation Accuracy: 0.700000\n",
      "Epoch 41, CIFAR-10 Batch 2:  Loss:     0.8058  Validation Accuracy: 0.675000\n",
      "Epoch 41, CIFAR-10 Batch 3:  Loss:     0.5423  Validation Accuracy: 0.825000\n",
      "Epoch 41, CIFAR-10 Batch 4:  Loss:     0.8109  Validation Accuracy: 0.725000\n",
      "Epoch 41, CIFAR-10 Batch 5:  Loss:     0.7344  Validation Accuracy: 0.875000\n",
      "Epoch 42, CIFAR-10 Batch 1:  Loss:     0.8377  Validation Accuracy: 0.750000\n",
      "Epoch 42, CIFAR-10 Batch 2:  Loss:     0.7345  Validation Accuracy: 0.675000\n",
      "Epoch 42, CIFAR-10 Batch 3:  Loss:     0.5618  Validation Accuracy: 0.825000\n",
      "Epoch 42, CIFAR-10 Batch 4:  Loss:     0.7658  Validation Accuracy: 0.750000\n",
      "Epoch 42, CIFAR-10 Batch 5:  Loss:     0.7355  Validation Accuracy: 0.825000\n",
      "Epoch 43, CIFAR-10 Batch 1:  Loss:     0.8096  Validation Accuracy: 0.750000\n",
      "Epoch 43, CIFAR-10 Batch 2:  Loss:     0.7760  Validation Accuracy: 0.675000\n",
      "Epoch 43, CIFAR-10 Batch 3:  Loss:     0.5992  Validation Accuracy: 0.825000\n",
      "Epoch 43, CIFAR-10 Batch 4:  Loss:     0.7439  Validation Accuracy: 0.775000\n",
      "Epoch 43, CIFAR-10 Batch 5:  Loss:     0.7543  Validation Accuracy: 0.800000\n",
      "Epoch 44, CIFAR-10 Batch 1:  Loss:     0.8236  Validation Accuracy: 0.750000\n",
      "Epoch 44, CIFAR-10 Batch 2:  Loss:     0.6905  Validation Accuracy: 0.675000\n",
      "Epoch 44, CIFAR-10 Batch 3:  Loss:     0.5713  Validation Accuracy: 0.900000\n",
      "Epoch 44, CIFAR-10 Batch 4:  Loss:     0.7457  Validation Accuracy: 0.725000\n",
      "Epoch 44, CIFAR-10 Batch 5:  Loss:     0.7071  Validation Accuracy: 0.825000\n",
      "Epoch 45, CIFAR-10 Batch 1:  Loss:     0.7894  Validation Accuracy: 0.725000\n",
      "Epoch 45, CIFAR-10 Batch 2:  Loss:     0.7228  Validation Accuracy: 0.650000\n",
      "Epoch 45, CIFAR-10 Batch 3:  Loss:     0.5593  Validation Accuracy: 0.875000\n",
      "Epoch 45, CIFAR-10 Batch 4:  Loss:     0.7614  Validation Accuracy: 0.725000\n",
      "Epoch 45, CIFAR-10 Batch 5:  Loss:     0.7105  Validation Accuracy: 0.825000\n",
      "Epoch 46, CIFAR-10 Batch 1:  Loss:     0.7743  Validation Accuracy: 0.775000\n",
      "Epoch 46, CIFAR-10 Batch 2:  Loss:     0.7267  Validation Accuracy: 0.775000\n",
      "Epoch 46, CIFAR-10 Batch 3:  Loss:     0.5896  Validation Accuracy: 0.850000\n",
      "Epoch 46, CIFAR-10 Batch 4:  Loss:     0.6796  Validation Accuracy: 0.800000\n",
      "Epoch 46, CIFAR-10 Batch 5:  Loss:     0.6959  Validation Accuracy: 0.875000\n",
      "Epoch 47, CIFAR-10 Batch 1:  Loss:     0.7605  Validation Accuracy: 0.800000\n",
      "Epoch 47, CIFAR-10 Batch 2:  Loss:     0.7431  Validation Accuracy: 0.700000\n",
      "Epoch 47, CIFAR-10 Batch 3:  Loss:     0.5244  Validation Accuracy: 0.900000\n",
      "Epoch 47, CIFAR-10 Batch 4:  Loss:     0.7553  Validation Accuracy: 0.725000\n",
      "Epoch 47, CIFAR-10 Batch 5:  Loss:     0.6791  Validation Accuracy: 0.825000\n",
      "Epoch 48, CIFAR-10 Batch 1:  Loss:     0.8164  Validation Accuracy: 0.700000\n",
      "Epoch 48, CIFAR-10 Batch 2:  Loss:     0.7313  Validation Accuracy: 0.750000\n",
      "Epoch 48, CIFAR-10 Batch 3:  Loss:     0.5728  Validation Accuracy: 0.850000\n",
      "Epoch 48, CIFAR-10 Batch 4:  Loss:     0.7465  Validation Accuracy: 0.750000\n",
      "Epoch 48, CIFAR-10 Batch 5:  Loss:     0.6818  Validation Accuracy: 0.825000\n",
      "Epoch 49, CIFAR-10 Batch 1:  Loss:     0.7254  Validation Accuracy: 0.775000\n",
      "Epoch 49, CIFAR-10 Batch 2:  Loss:     0.7112  Validation Accuracy: 0.725000\n",
      "Epoch 49, CIFAR-10 Batch 3:  Loss:     0.5617  Validation Accuracy: 0.875000\n",
      "Epoch 49, CIFAR-10 Batch 4:  Loss:     0.6863  Validation Accuracy: 0.800000\n",
      "Epoch 49, CIFAR-10 Batch 5:  Loss:     0.7120  Validation Accuracy: 0.825000\n",
      "Epoch 50, CIFAR-10 Batch 1:  Loss:     0.7274  Validation Accuracy: 0.800000\n",
      "Epoch 50, CIFAR-10 Batch 2:  Loss:     0.6745  Validation Accuracy: 0.775000\n",
      "Epoch 50, CIFAR-10 Batch 3:  Loss:     0.5928  Validation Accuracy: 0.850000\n",
      "Epoch 50, CIFAR-10 Batch 4:  Loss:     0.7597  Validation Accuracy: 0.775000\n",
      "Epoch 50, CIFAR-10 Batch 5:  Loss:     0.6550  Validation Accuracy: 0.825000\n",
      "Epoch 51, CIFAR-10 Batch 1:  Loss:     0.7033  Validation Accuracy: 0.800000\n",
      "Epoch 51, CIFAR-10 Batch 2:  Loss:     0.7196  Validation Accuracy: 0.725000\n",
      "Epoch 51, CIFAR-10 Batch 3:  Loss:     0.5420  Validation Accuracy: 0.875000\n",
      "Epoch 51, CIFAR-10 Batch 4:  Loss:     0.7322  Validation Accuracy: 0.775000\n",
      "Epoch 51, CIFAR-10 Batch 5:  Loss:     0.6810  Validation Accuracy: 0.800000\n",
      "Epoch 52, CIFAR-10 Batch 1:  Loss:     0.7233  Validation Accuracy: 0.750000\n",
      "Epoch 52, CIFAR-10 Batch 2:  Loss:     0.7255  Validation Accuracy: 0.775000\n",
      "Epoch 52, CIFAR-10 Batch 3:  Loss:     0.5281  Validation Accuracy: 0.875000\n",
      "Epoch 52, CIFAR-10 Batch 4:  Loss:     0.6371  Validation Accuracy: 0.875000\n",
      "Epoch 52, CIFAR-10 Batch 5:  Loss:     0.6569  Validation Accuracy: 0.800000\n",
      "Epoch 53, CIFAR-10 Batch 1:  Loss:     0.6720  Validation Accuracy: 0.800000\n",
      "Epoch 53, CIFAR-10 Batch 2:  Loss:     0.6852  Validation Accuracy: 0.700000\n",
      "Epoch 53, CIFAR-10 Batch 3:  Loss:     0.5240  Validation Accuracy: 0.875000\n",
      "Epoch 53, CIFAR-10 Batch 4:  Loss:     0.6917  Validation Accuracy: 0.850000\n",
      "Epoch 53, CIFAR-10 Batch 5:  Loss:     0.6300  Validation Accuracy: 0.850000\n",
      "Epoch 54, CIFAR-10 Batch 1:  Loss:     0.6776  Validation Accuracy: 0.725000\n",
      "Epoch 54, CIFAR-10 Batch 2:  Loss:     0.6958  Validation Accuracy: 0.775000\n",
      "Epoch 54, CIFAR-10 Batch 3:  Loss:     0.5261  Validation Accuracy: 0.875000\n",
      "Epoch 54, CIFAR-10 Batch 4:  Loss:     0.6799  Validation Accuracy: 0.775000\n",
      "Epoch 54, CIFAR-10 Batch 5:  Loss:     0.6262  Validation Accuracy: 0.775000\n",
      "Epoch 55, CIFAR-10 Batch 1:  Loss:     0.6896  Validation Accuracy: 0.800000\n",
      "Epoch 55, CIFAR-10 Batch 2:  Loss:     0.6496  Validation Accuracy: 0.750000\n",
      "Epoch 55, CIFAR-10 Batch 3:  Loss:     0.5412  Validation Accuracy: 0.850000\n",
      "Epoch 55, CIFAR-10 Batch 4:  Loss:     0.6927  Validation Accuracy: 0.800000\n",
      "Epoch 55, CIFAR-10 Batch 5:  Loss:     0.6067  Validation Accuracy: 0.925000\n",
      "Epoch 56, CIFAR-10 Batch 1:  Loss:     0.7499  Validation Accuracy: 0.775000\n",
      "Epoch 56, CIFAR-10 Batch 2:  Loss:     0.6420  Validation Accuracy: 0.825000\n",
      "Epoch 56, CIFAR-10 Batch 3:  Loss:     0.4968  Validation Accuracy: 0.875000\n",
      "Epoch 56, CIFAR-10 Batch 4:  Loss:     0.6797  Validation Accuracy: 0.800000\n",
      "Epoch 56, CIFAR-10 Batch 5:  Loss:     0.6028  Validation Accuracy: 0.900000\n",
      "Epoch 57, CIFAR-10 Batch 1:  Loss:     0.7002  Validation Accuracy: 0.775000\n",
      "Epoch 57, CIFAR-10 Batch 2:  Loss:     0.6182  Validation Accuracy: 0.850000\n",
      "Epoch 57, CIFAR-10 Batch 3:  Loss:     0.5019  Validation Accuracy: 0.875000\n",
      "Epoch 57, CIFAR-10 Batch 4:  Loss:     0.6716  Validation Accuracy: 0.850000\n",
      "Epoch 57, CIFAR-10 Batch 5:  Loss:     0.6098  Validation Accuracy: 0.850000\n",
      "Epoch 58, CIFAR-10 Batch 1:  Loss:     0.6974  Validation Accuracy: 0.775000\n",
      "Epoch 58, CIFAR-10 Batch 2:  Loss:     0.6255  Validation Accuracy: 0.825000\n",
      "Epoch 58, CIFAR-10 Batch 3:  Loss:     0.5037  Validation Accuracy: 0.925000\n",
      "Epoch 58, CIFAR-10 Batch 4:  Loss:     0.6620  Validation Accuracy: 0.775000\n",
      "Epoch 58, CIFAR-10 Batch 5:  Loss:     0.6143  Validation Accuracy: 0.900000\n",
      "Epoch 59, CIFAR-10 Batch 1:  Loss:     0.6996  Validation Accuracy: 0.750000\n",
      "Epoch 59, CIFAR-10 Batch 2:  Loss:     0.6427  Validation Accuracy: 0.775000\n",
      "Epoch 59, CIFAR-10 Batch 3:  Loss:     0.4803  Validation Accuracy: 0.900000\n",
      "Epoch 59, CIFAR-10 Batch 4:  Loss:     0.6523  Validation Accuracy: 0.825000\n",
      "Epoch 59, CIFAR-10 Batch 5:  Loss:     0.5825  Validation Accuracy: 0.875000\n",
      "Epoch 60, CIFAR-10 Batch 1:  Loss:     0.6737  Validation Accuracy: 0.775000\n",
      "Epoch 60, CIFAR-10 Batch 2:  Loss:     0.6302  Validation Accuracy: 0.725000\n",
      "Epoch 60, CIFAR-10 Batch 3:  Loss:     0.5010  Validation Accuracy: 0.900000\n",
      "Epoch 60, CIFAR-10 Batch 4:  Loss:     0.6833  Validation Accuracy: 0.800000\n",
      "Epoch 60, CIFAR-10 Batch 5:  Loss:     0.6117  Validation Accuracy: 0.875000\n",
      "Epoch 61, CIFAR-10 Batch 1:  Loss:     0.7084  Validation Accuracy: 0.775000\n",
      "Epoch 61, CIFAR-10 Batch 2:  Loss:     0.6052  Validation Accuracy: 0.800000\n",
      "Epoch 61, CIFAR-10 Batch 3:  Loss:     0.5009  Validation Accuracy: 0.875000\n",
      "Epoch 61, CIFAR-10 Batch 4:  Loss:     0.6367  Validation Accuracy: 0.825000\n",
      "Epoch 61, CIFAR-10 Batch 5:  Loss:     0.6178  Validation Accuracy: 0.825000\n",
      "Epoch 62, CIFAR-10 Batch 1:  Loss:     0.7155  Validation Accuracy: 0.725000\n",
      "Epoch 62, CIFAR-10 Batch 2:  Loss:     0.6136  Validation Accuracy: 0.825000\n",
      "Epoch 62, CIFAR-10 Batch 3:  Loss:     0.4763  Validation Accuracy: 0.925000\n",
      "Epoch 62, CIFAR-10 Batch 4:  Loss:     0.6139  Validation Accuracy: 0.850000\n",
      "Epoch 62, CIFAR-10 Batch 5:  Loss:     0.6307  Validation Accuracy: 0.825000\n",
      "Epoch 63, CIFAR-10 Batch 1:  Loss:     0.6913  Validation Accuracy: 0.800000\n",
      "Epoch 63, CIFAR-10 Batch 2:  Loss:     0.6426  Validation Accuracy: 0.800000\n",
      "Epoch 63, CIFAR-10 Batch 3:  Loss:     0.5084  Validation Accuracy: 0.850000\n",
      "Epoch 63, CIFAR-10 Batch 4:  Loss:     0.6583  Validation Accuracy: 0.850000\n",
      "Epoch 63, CIFAR-10 Batch 5:  Loss:     0.6156  Validation Accuracy: 0.850000\n",
      "Epoch 64, CIFAR-10 Batch 1:  Loss:     0.6902  Validation Accuracy: 0.725000\n",
      "Epoch 64, CIFAR-10 Batch 2:  Loss:     0.6062  Validation Accuracy: 0.850000\n",
      "Epoch 64, CIFAR-10 Batch 3:  Loss:     0.4995  Validation Accuracy: 0.925000\n",
      "Epoch 64, CIFAR-10 Batch 4:  Loss:     0.6297  Validation Accuracy: 0.775000\n",
      "Epoch 64, CIFAR-10 Batch 5:  Loss:     0.6266  Validation Accuracy: 0.875000\n",
      "Epoch 65, CIFAR-10 Batch 1:  Loss:     0.6488  Validation Accuracy: 0.800000\n",
      "Epoch 65, CIFAR-10 Batch 2:  Loss:     0.6155  Validation Accuracy: 0.850000\n",
      "Epoch 65, CIFAR-10 Batch 3:  Loss:     0.4952  Validation Accuracy: 0.825000\n",
      "Epoch 65, CIFAR-10 Batch 4:  Loss:     0.6351  Validation Accuracy: 0.850000\n",
      "Epoch 65, CIFAR-10 Batch 5:  Loss:     0.5865  Validation Accuracy: 0.850000\n",
      "Epoch 66, CIFAR-10 Batch 1:  Loss:     0.6291  Validation Accuracy: 0.775000\n",
      "Epoch 66, CIFAR-10 Batch 2:  Loss:     0.6491  Validation Accuracy: 0.750000\n",
      "Epoch 66, CIFAR-10 Batch 3:  Loss:     0.4794  Validation Accuracy: 0.875000\n",
      "Epoch 66, CIFAR-10 Batch 4:  Loss:     0.5770  Validation Accuracy: 0.875000\n",
      "Epoch 66, CIFAR-10 Batch 5:  Loss:     0.5971  Validation Accuracy: 0.825000\n",
      "Epoch 67, CIFAR-10 Batch 1:  Loss:     0.6443  Validation Accuracy: 0.750000\n",
      "Epoch 67, CIFAR-10 Batch 2:  Loss:     0.6045  Validation Accuracy: 0.750000\n",
      "Epoch 67, CIFAR-10 Batch 3:  Loss:     0.5158  Validation Accuracy: 0.900000\n",
      "Epoch 67, CIFAR-10 Batch 4:  Loss:     0.6423  Validation Accuracy: 0.850000\n",
      "Epoch 67, CIFAR-10 Batch 5:  Loss:     0.5933  Validation Accuracy: 0.850000\n",
      "Epoch 68, CIFAR-10 Batch 1:  Loss:     0.6079  Validation Accuracy: 0.775000\n",
      "Epoch 68, CIFAR-10 Batch 2:  Loss:     0.5925  Validation Accuracy: 0.800000\n",
      "Epoch 68, CIFAR-10 Batch 3:  Loss:     0.4824  Validation Accuracy: 0.900000\n",
      "Epoch 68, CIFAR-10 Batch 4:  Loss:     0.5895  Validation Accuracy: 0.900000\n",
      "Epoch 68, CIFAR-10 Batch 5:  Loss:     0.6079  Validation Accuracy: 0.900000\n",
      "Epoch 69, CIFAR-10 Batch 1:  Loss:     0.6726  Validation Accuracy: 0.750000\n",
      "Epoch 69, CIFAR-10 Batch 2:  Loss:     0.5906  Validation Accuracy: 0.775000\n",
      "Epoch 69, CIFAR-10 Batch 3:  Loss:     0.4570  Validation Accuracy: 0.875000\n",
      "Epoch 69, CIFAR-10 Batch 4:  Loss:     0.6100  Validation Accuracy: 0.875000\n",
      "Epoch 69, CIFAR-10 Batch 5:  Loss:     0.5676  Validation Accuracy: 0.925000\n",
      "Epoch 70, CIFAR-10 Batch 1:  Loss:     0.6047  Validation Accuracy: 0.775000\n",
      "Epoch 70, CIFAR-10 Batch 2:  Loss:     0.5753  Validation Accuracy: 0.850000\n",
      "Epoch 70, CIFAR-10 Batch 3:  Loss:     0.4491  Validation Accuracy: 0.900000\n",
      "Epoch 70, CIFAR-10 Batch 4:  Loss:     0.6271  Validation Accuracy: 0.800000\n",
      "Epoch 70, CIFAR-10 Batch 5:  Loss:     0.5822  Validation Accuracy: 0.875000\n",
      "Epoch 71, CIFAR-10 Batch 1:  Loss:     0.6079  Validation Accuracy: 0.800000\n",
      "Epoch 71, CIFAR-10 Batch 2:  Loss:     0.5623  Validation Accuracy: 0.850000\n",
      "Epoch 71, CIFAR-10 Batch 3:  Loss:     0.4921  Validation Accuracy: 0.925000\n",
      "Epoch 71, CIFAR-10 Batch 4:  Loss:     0.5785  Validation Accuracy: 0.825000\n",
      "Epoch 71, CIFAR-10 Batch 5:  Loss:     0.5703  Validation Accuracy: 0.900000\n",
      "Epoch 72, CIFAR-10 Batch 1:  Loss:     0.6215  Validation Accuracy: 0.800000\n",
      "Epoch 72, CIFAR-10 Batch 2:  Loss:     0.5688  Validation Accuracy: 0.800000\n",
      "Epoch 72, CIFAR-10 Batch 3:  Loss:     0.4761  Validation Accuracy: 0.850000\n",
      "Epoch 72, CIFAR-10 Batch 4:  Loss:     0.5742  Validation Accuracy: 0.850000\n",
      "Epoch 72, CIFAR-10 Batch 5:  Loss:     0.5629  Validation Accuracy: 0.925000\n",
      "Epoch 73, CIFAR-10 Batch 1:  Loss:     0.6307  Validation Accuracy: 0.800000\n",
      "Epoch 73, CIFAR-10 Batch 2:  Loss:     0.6299  Validation Accuracy: 0.800000\n",
      "Epoch 73, CIFAR-10 Batch 3:  Loss:     0.4750  Validation Accuracy: 0.900000\n",
      "Epoch 73, CIFAR-10 Batch 4:  Loss:     0.5587  Validation Accuracy: 0.900000\n",
      "Epoch 73, CIFAR-10 Batch 5:  Loss:     0.5412  Validation Accuracy: 0.900000\n",
      "Epoch 74, CIFAR-10 Batch 1:  Loss:     0.6355  Validation Accuracy: 0.800000\n",
      "Epoch 74, CIFAR-10 Batch 2:  Loss:     0.5958  Validation Accuracy: 0.875000\n",
      "Epoch 74, CIFAR-10 Batch 3:  Loss:     0.4707  Validation Accuracy: 0.900000\n",
      "Epoch 74, CIFAR-10 Batch 4:  Loss:     0.5873  Validation Accuracy: 0.875000\n",
      "Epoch 74, CIFAR-10 Batch 5:  Loss:     0.5546  Validation Accuracy: 0.950000\n",
      "Epoch 75, CIFAR-10 Batch 1:  Loss:     0.5798  Validation Accuracy: 0.800000\n",
      "Epoch 75, CIFAR-10 Batch 2:  Loss:     0.6283  Validation Accuracy: 0.750000\n",
      "Epoch 75, CIFAR-10 Batch 3:  Loss:     0.4705  Validation Accuracy: 0.875000\n",
      "Epoch 75, CIFAR-10 Batch 4:  Loss:     0.5630  Validation Accuracy: 0.875000\n",
      "Epoch 75, CIFAR-10 Batch 5:  Loss:     0.5635  Validation Accuracy: 0.900000\n",
      "Epoch 76, CIFAR-10 Batch 1:  Loss:     0.5778  Validation Accuracy: 0.850000\n",
      "Epoch 76, CIFAR-10 Batch 2:  Loss:     0.6297  Validation Accuracy: 0.800000\n",
      "Epoch 76, CIFAR-10 Batch 3:  Loss:     0.4385  Validation Accuracy: 0.875000\n",
      "Epoch 76, CIFAR-10 Batch 4:  Loss:     0.5651  Validation Accuracy: 0.875000\n",
      "Epoch 76, CIFAR-10 Batch 5:  Loss:     0.5836  Validation Accuracy: 0.875000\n",
      "Epoch 77, CIFAR-10 Batch 1:  Loss:     0.5614  Validation Accuracy: 0.850000\n",
      "Epoch 77, CIFAR-10 Batch 2:  Loss:     0.5903  Validation Accuracy: 0.825000\n",
      "Epoch 77, CIFAR-10 Batch 3:  Loss:     0.5010  Validation Accuracy: 0.875000\n",
      "Epoch 77, CIFAR-10 Batch 4:  Loss:     0.5671  Validation Accuracy: 0.900000\n",
      "Epoch 77, CIFAR-10 Batch 5:  Loss:     0.5679  Validation Accuracy: 0.850000\n",
      "Epoch 78, CIFAR-10 Batch 1:  Loss:     0.6281  Validation Accuracy: 0.800000\n",
      "Epoch 78, CIFAR-10 Batch 2:  Loss:     0.5829  Validation Accuracy: 0.825000\n",
      "Epoch 78, CIFAR-10 Batch 3:  Loss:     0.4866  Validation Accuracy: 0.825000\n",
      "Epoch 78, CIFAR-10 Batch 4:  Loss:     0.5600  Validation Accuracy: 0.850000\n",
      "Epoch 78, CIFAR-10 Batch 5:  Loss:     0.5452  Validation Accuracy: 0.900000\n",
      "Epoch 79, CIFAR-10 Batch 1:  Loss:     0.5631  Validation Accuracy: 0.800000\n",
      "Epoch 79, CIFAR-10 Batch 2:  Loss:     0.5372  Validation Accuracy: 0.875000\n",
      "Epoch 79, CIFAR-10 Batch 3:  Loss:     0.4848  Validation Accuracy: 0.825000\n",
      "Epoch 79, CIFAR-10 Batch 4:  Loss:     0.5578  Validation Accuracy: 0.825000\n",
      "Epoch 79, CIFAR-10 Batch 5:  Loss:     0.5550  Validation Accuracy: 0.875000\n",
      "Epoch 80, CIFAR-10 Batch 1:  Loss:     0.5473  Validation Accuracy: 0.800000\n",
      "Epoch 80, CIFAR-10 Batch 2:  Loss:     0.5850  Validation Accuracy: 0.825000\n",
      "Epoch 80, CIFAR-10 Batch 3:  Loss:     0.4544  Validation Accuracy: 0.850000\n",
      "Epoch 80, CIFAR-10 Batch 4:  Loss:     0.5793  Validation Accuracy: 0.875000\n",
      "Epoch 80, CIFAR-10 Batch 5:  Loss:     0.5468  Validation Accuracy: 0.950000\n",
      "Epoch 81, CIFAR-10 Batch 1:  Loss:     0.5922  Validation Accuracy: 0.825000\n",
      "Epoch 81, CIFAR-10 Batch 2:  Loss:     0.6064  Validation Accuracy: 0.775000\n",
      "Epoch 81, CIFAR-10 Batch 3:  Loss:     0.4689  Validation Accuracy: 0.850000\n",
      "Epoch 81, CIFAR-10 Batch 4:  Loss:     0.5676  Validation Accuracy: 0.825000\n",
      "Epoch 81, CIFAR-10 Batch 5:  Loss:     0.5574  Validation Accuracy: 0.875000\n",
      "Epoch 82, CIFAR-10 Batch 1:  Loss:     0.5150  Validation Accuracy: 0.850000\n",
      "Epoch 82, CIFAR-10 Batch 2:  Loss:     0.5501  Validation Accuracy: 0.825000\n",
      "Epoch 82, CIFAR-10 Batch 3:  Loss:     0.4420  Validation Accuracy: 0.875000\n",
      "Epoch 82, CIFAR-10 Batch 4:  Loss:     0.5662  Validation Accuracy: 0.900000\n",
      "Epoch 82, CIFAR-10 Batch 5:  Loss:     0.5642  Validation Accuracy: 0.875000\n",
      "Epoch 83, CIFAR-10 Batch 1:  Loss:     0.5799  Validation Accuracy: 0.800000\n",
      "Epoch 83, CIFAR-10 Batch 2:  Loss:     0.5631  Validation Accuracy: 0.825000\n",
      "Epoch 83, CIFAR-10 Batch 3:  Loss:     0.4346  Validation Accuracy: 0.850000\n",
      "Epoch 83, CIFAR-10 Batch 4:  Loss:     0.5564  Validation Accuracy: 0.900000\n",
      "Epoch 83, CIFAR-10 Batch 5:  Loss:     0.5467  Validation Accuracy: 0.900000\n",
      "Epoch 84, CIFAR-10 Batch 1:  Loss:     0.5349  Validation Accuracy: 0.800000\n",
      "Epoch 84, CIFAR-10 Batch 2:  Loss:     0.5405  Validation Accuracy: 0.850000\n",
      "Epoch 84, CIFAR-10 Batch 3:  Loss:     0.4526  Validation Accuracy: 0.850000\n",
      "Epoch 84, CIFAR-10 Batch 4:  Loss:     0.5680  Validation Accuracy: 0.875000\n",
      "Epoch 84, CIFAR-10 Batch 5:  Loss:     0.5186  Validation Accuracy: 0.925000\n",
      "Epoch 85, CIFAR-10 Batch 1:  Loss:     0.5977  Validation Accuracy: 0.825000\n",
      "Epoch 85, CIFAR-10 Batch 2:  Loss:     0.5479  Validation Accuracy: 0.800000\n",
      "Epoch 85, CIFAR-10 Batch 3:  Loss:     0.4302  Validation Accuracy: 0.900000\n",
      "Epoch 85, CIFAR-10 Batch 4:  Loss:     0.5406  Validation Accuracy: 0.875000\n",
      "Epoch 85, CIFAR-10 Batch 5:  Loss:     0.5222  Validation Accuracy: 0.875000\n",
      "Epoch 86, CIFAR-10 Batch 1:  Loss:     0.5210  Validation Accuracy: 0.800000\n",
      "Epoch 86, CIFAR-10 Batch 2:  Loss:     0.5463  Validation Accuracy: 0.850000\n",
      "Epoch 86, CIFAR-10 Batch 3:  Loss:     0.4496  Validation Accuracy: 0.900000\n",
      "Epoch 86, CIFAR-10 Batch 4:  Loss:     0.5736  Validation Accuracy: 0.850000\n",
      "Epoch 86, CIFAR-10 Batch 5:  Loss:     0.5544  Validation Accuracy: 0.925000\n",
      "Epoch 87, CIFAR-10 Batch 1:  Loss:     0.5468  Validation Accuracy: 0.800000\n",
      "Epoch 87, CIFAR-10 Batch 2:  Loss:     0.5282  Validation Accuracy: 0.850000\n",
      "Epoch 87, CIFAR-10 Batch 3:  Loss:     0.4346  Validation Accuracy: 0.925000\n",
      "Epoch 87, CIFAR-10 Batch 4:  Loss:     0.5600  Validation Accuracy: 0.800000\n",
      "Epoch 87, CIFAR-10 Batch 5:  Loss:     0.5497  Validation Accuracy: 0.850000\n",
      "Epoch 88, CIFAR-10 Batch 1:  Loss:     0.5808  Validation Accuracy: 0.800000\n",
      "Epoch 88, CIFAR-10 Batch 2:  Loss:     0.5155  Validation Accuracy: 0.850000\n",
      "Epoch 88, CIFAR-10 Batch 3:  Loss:     0.4386  Validation Accuracy: 0.900000\n",
      "Epoch 88, CIFAR-10 Batch 4:  Loss:     0.6051  Validation Accuracy: 0.825000\n",
      "Epoch 88, CIFAR-10 Batch 5:  Loss:     0.5126  Validation Accuracy: 0.900000\n",
      "Epoch 89, CIFAR-10 Batch 1:  Loss:     0.5108  Validation Accuracy: 0.825000\n",
      "Epoch 89, CIFAR-10 Batch 2:  Loss:     0.5357  Validation Accuracy: 0.825000\n",
      "Epoch 89, CIFAR-10 Batch 3:  Loss:     0.4629  Validation Accuracy: 0.875000\n",
      "Epoch 89, CIFAR-10 Batch 4:  Loss:     0.5979  Validation Accuracy: 0.850000\n",
      "Epoch 89, CIFAR-10 Batch 5:  Loss:     0.5247  Validation Accuracy: 0.900000\n",
      "Epoch 90, CIFAR-10 Batch 1:  Loss:     0.4610  Validation Accuracy: 0.825000\n",
      "Epoch 90, CIFAR-10 Batch 2:  Loss:     0.5226  Validation Accuracy: 0.775000\n",
      "Epoch 90, CIFAR-10 Batch 3:  Loss:     0.4486  Validation Accuracy: 0.925000\n",
      "Epoch 90, CIFAR-10 Batch 4:  Loss:     0.5644  Validation Accuracy: 0.850000\n",
      "Epoch 90, CIFAR-10 Batch 5:  Loss:     0.5262  Validation Accuracy: 0.850000\n",
      "Epoch 91, CIFAR-10 Batch 1:  Loss:     0.5658  Validation Accuracy: 0.800000\n",
      "Epoch 91, CIFAR-10 Batch 2:  Loss:     0.6143  Validation Accuracy: 0.825000\n",
      "Epoch 91, CIFAR-10 Batch 3:  Loss:     0.4223  Validation Accuracy: 0.900000\n",
      "Epoch 91, CIFAR-10 Batch 4:  Loss:     0.5246  Validation Accuracy: 0.875000\n",
      "Epoch 91, CIFAR-10 Batch 5:  Loss:     0.4869  Validation Accuracy: 0.900000\n",
      "Epoch 92, CIFAR-10 Batch 1:  Loss:     0.4960  Validation Accuracy: 0.875000\n",
      "Epoch 92, CIFAR-10 Batch 2:  Loss:     0.5138  Validation Accuracy: 0.875000\n",
      "Epoch 92, CIFAR-10 Batch 3:  Loss:     0.4291  Validation Accuracy: 0.925000\n",
      "Epoch 92, CIFAR-10 Batch 4:  Loss:     0.5085  Validation Accuracy: 0.875000\n",
      "Epoch 92, CIFAR-10 Batch 5:  Loss:     0.4969  Validation Accuracy: 0.925000\n",
      "Epoch 93, CIFAR-10 Batch 1:  Loss:     0.5357  Validation Accuracy: 0.800000\n",
      "Epoch 93, CIFAR-10 Batch 2:  Loss:     0.5359  Validation Accuracy: 0.825000\n",
      "Epoch 93, CIFAR-10 Batch 3:  Loss:     0.4318  Validation Accuracy: 0.900000\n",
      "Epoch 93, CIFAR-10 Batch 4:  Loss:     0.5073  Validation Accuracy: 0.900000\n",
      "Epoch 93, CIFAR-10 Batch 5:  Loss:     0.4980  Validation Accuracy: 0.950000\n",
      "Epoch 94, CIFAR-10 Batch 1:  Loss:     0.5005  Validation Accuracy: 0.850000\n",
      "Epoch 94, CIFAR-10 Batch 2:  Loss:     0.5451  Validation Accuracy: 0.750000\n",
      "Epoch 94, CIFAR-10 Batch 3:  Loss:     0.3822  Validation Accuracy: 0.850000\n",
      "Epoch 94, CIFAR-10 Batch 4:  Loss:     0.5243  Validation Accuracy: 0.900000\n",
      "Epoch 94, CIFAR-10 Batch 5:  Loss:     0.4990  Validation Accuracy: 0.900000\n",
      "Epoch 95, CIFAR-10 Batch 1:  Loss:     0.5022  Validation Accuracy: 0.850000\n",
      "Epoch 95, CIFAR-10 Batch 2:  Loss:     0.5394  Validation Accuracy: 0.825000\n",
      "Epoch 95, CIFAR-10 Batch 3:  Loss:     0.4035  Validation Accuracy: 0.900000\n",
      "Epoch 95, CIFAR-10 Batch 4:  Loss:     0.5590  Validation Accuracy: 0.875000\n",
      "Epoch 95, CIFAR-10 Batch 5:  Loss:     0.4839  Validation Accuracy: 0.900000\n",
      "Epoch 96, CIFAR-10 Batch 1:  Loss:     0.4952  Validation Accuracy: 0.850000\n",
      "Epoch 96, CIFAR-10 Batch 2:  Loss:     0.5460  Validation Accuracy: 0.850000\n",
      "Epoch 96, CIFAR-10 Batch 3:  Loss:     0.4024  Validation Accuracy: 0.975000\n",
      "Epoch 96, CIFAR-10 Batch 4:  Loss:     0.5065  Validation Accuracy: 0.925000\n",
      "Epoch 96, CIFAR-10 Batch 5:  Loss:     0.4956  Validation Accuracy: 0.950000\n",
      "Epoch 97, CIFAR-10 Batch 1:  Loss:     0.5137  Validation Accuracy: 0.800000\n",
      "Epoch 97, CIFAR-10 Batch 2:  Loss:     0.5387  Validation Accuracy: 0.825000\n",
      "Epoch 97, CIFAR-10 Batch 3:  Loss:     0.4214  Validation Accuracy: 0.925000\n",
      "Epoch 97, CIFAR-10 Batch 4:  Loss:     0.5188  Validation Accuracy: 0.900000\n",
      "Epoch 97, CIFAR-10 Batch 5:  Loss:     0.5034  Validation Accuracy: 0.875000\n",
      "Epoch 98, CIFAR-10 Batch 1:  Loss:     0.5082  Validation Accuracy: 0.825000\n",
      "Epoch 98, CIFAR-10 Batch 2:  Loss:     0.5405  Validation Accuracy: 0.875000\n",
      "Epoch 98, CIFAR-10 Batch 3:  Loss:     0.3902  Validation Accuracy: 0.975000\n",
      "Epoch 98, CIFAR-10 Batch 4:  Loss:     0.5009  Validation Accuracy: 0.875000\n",
      "Epoch 98, CIFAR-10 Batch 5:  Loss:     0.5191  Validation Accuracy: 0.875000\n",
      "Epoch 99, CIFAR-10 Batch 1:  Loss:     0.5048  Validation Accuracy: 0.825000\n",
      "Epoch 99, CIFAR-10 Batch 2:  Loss:     0.5444  Validation Accuracy: 0.850000\n",
      "Epoch 99, CIFAR-10 Batch 3:  Loss:     0.4691  Validation Accuracy: 0.875000\n",
      "Epoch 99, CIFAR-10 Batch 4:  Loss:     0.4779  Validation Accuracy: 0.925000\n",
      "Epoch 99, CIFAR-10 Batch 5:  Loss:     0.4741  Validation Accuracy: 0.900000\n",
      "Epoch 100, CIFAR-10 Batch 1:  Loss:     0.4943  Validation Accuracy: 0.850000\n",
      "Epoch 100, CIFAR-10 Batch 2:  Loss:     0.5310  Validation Accuracy: 0.850000\n",
      "Epoch 100, CIFAR-10 Batch 3:  Loss:     0.4191  Validation Accuracy: 0.925000\n",
      "Epoch 100, CIFAR-10 Batch 4:  Loss:     0.5258  Validation Accuracy: 0.825000\n",
      "Epoch 100, CIFAR-10 Batch 5:  Loss:     0.4615  Validation Accuracy: 0.900000\n"
     ]
    }
   ],
   "source": [
    "\"\"\"\n",
    "DON'T MODIFY ANYTHING IN THIS CELL\n",
    "\"\"\"\n",
    "save_model_path = './image_classification'\n",
    "\n",
    "print('Training...')\n",
    "with tf.Session() as sess:\n",
    "    # Initializing the variables\n",
    "    sess.run(tf.global_variables_initializer())\n",
    "    \n",
    "    # Training cycle\n",
    "    for epoch in range(epochs):\n",
    "        # Loop over all batches\n",
    "        n_batches = 5\n",
    "        for batch_i in range(1, n_batches + 1):\n",
    "            for batch_features, batch_labels in helper.load_preprocess_training_batch(batch_i, batch_size):\n",
    "                train_neural_network(sess, optimizer, keep_probability, batch_features, batch_labels)\n",
    "            print('Epoch {:>2}, CIFAR-10 Batch {}:  '.format(epoch + 1, batch_i), end='')\n",
    "            print_stats(sess, batch_features, batch_labels, cost, accuracy)\n",
    "            \n",
    "    # Save Model\n",
    "    saver = tf.train.Saver()\n",
    "    save_path = saver.save(sess, save_model_path)"
   ]
  },
  {
   "cell_type": "markdown",
   "metadata": {
    "deletable": true,
    "editable": true
   },
   "source": [
    "# Checkpoint\n",
    "The model has been saved to disk.\n",
    "## Test Model\n",
    "Test your model against the test dataset.  This will be your final accuracy. You should have an accuracy greater than 50%. If you don't, keep tweaking the model architecture and parameters."
   ]
  },
  {
   "cell_type": "code",
   "execution_count": 19,
   "metadata": {
    "collapsed": false,
    "deletable": true,
    "editable": true
   },
   "outputs": [
    {
     "name": "stdout",
     "output_type": "stream",
     "text": [
      "Testing Accuracy: 0.6920490506329114\n",
      "\n"
     ]
    },
    {
     "data": {
      "image/png": "[encoded data removed]",
      "text/plain": [
       "<matplotlib.figure.Figure at 0x7f30ea5b4f60>"
      ]
     },
     "metadata": {
      "image/png": {
       "height": 319,
       "width": 355
      }
     },
     "output_type": "display_data"
    }
   ],
   "source": [
    "\"\"\"\n",
    "DON'T MODIFY ANYTHING IN THIS CELL\n",
    "\"\"\"\n",
    "%matplotlib inline\n",
    "%config InlineBackend.figure_format = 'retina'\n",
    "\n",
    "import tensorflow as tf\n",
    "import pickle\n",
    "import helper\n",
    "import random\n",
    "\n",
    "# Set batch size if not already set\n",
    "try:\n",
    "    if batch_size:\n",
    "        pass\n",
    "except NameError:\n",
    "    batch_size = 64\n",
    "\n",
    "save_model_path = './image_classification'\n",
    "n_samples = 4\n",
    "top_n_predictions = 3\n",
    "\n",
    "def test_model():\n",
    "    \"\"\"\n",
    "    Test the saved model against the test dataset\n",
    "    \"\"\"\n",
    "\n",
    "    test_features, test_labels = pickle.load(open('preprocess_training.p', mode='rb'))\n",
    "    loaded_graph = tf.Graph()\n",
    "\n",
    "    with tf.Session(graph=loaded_graph) as sess:\n",
    "        # Load model\n",
    "        loader = tf.train.import_meta_graph(save_model_path + '.meta')\n",
    "        loader.restore(sess, save_model_path)\n",
    "\n",
    "        # Get Tensors from loaded model\n",
    "        loaded_x = loaded_graph.get_tensor_by_name('x:0')\n",
    "        loaded_y = loaded_graph.get_tensor_by_name('y:0')\n",
    "        loaded_keep_prob = loaded_graph.get_tensor_by_name('keep_prob:0')\n",
    "        loaded_logits = loaded_graph.get_tensor_by_name('logits:0')\n",
    "        loaded_acc = loaded_graph.get_tensor_by_name('accuracy:0')\n",
    "        \n",
    "        # Get accuracy in batches for memory limitations\n",
    "        test_batch_acc_total = 0\n",
    "        test_batch_count = 0\n",
    "        \n",
    "        for train_feature_batch, train_label_batch in helper.batch_features_labels(test_features, test_labels, batch_size):\n",
    "            test_batch_acc_total += sess.run(\n",
    "                loaded_acc,\n",
    "                feed_dict={loaded_x: train_feature_batch, loaded_y: train_label_batch, loaded_keep_prob: 1.0})\n",
    "            test_batch_count += 1\n",
    "\n",
    "        print('Testing Accuracy: {}\\n'.format(test_batch_acc_total/test_batch_count))\n",
    "\n",
    "        # Print Random Samples\n",
    "        random_test_features, random_test_labels = tuple(zip(*random.sample(list(zip(test_features, test_labels)), n_samples)))\n",
    "        random_test_predictions = sess.run(\n",
    "            tf.nn.top_k(tf.nn.softmax(loaded_logits), top_n_predictions),\n",
    "            feed_dict={loaded_x: random_test_features, loaded_y: random_test_labels, loaded_keep_prob: 1.0})\n",
    "        helper.display_image_predictions(random_test_features, random_test_labels, random_test_predictions)\n",
    "\n",
    "\n",
    "test_model()"
   ]
  },
  {
   "cell_type": "markdown",
   "metadata": {
    "deletable": true,
    "editable": true
   },
   "source": [
    "## Why 50-70% Accuracy?\n",
    "You might be wondering why you can't get an accuracy any higher. First things first, 50% isn't bad for a simple CNN.  Pure guessing would get you 10% accuracy. However, you might notice people are getting scores [well above 70%](http://rodrigob.github.io/are_we_there_yet/build/classification_datasets_results.html#43494641522d3130).  That's because we haven't taught you all there is to know about neural networks. We still need to cover a few more techniques.\n",
    "## Submitting This Project\n",
    "When submitting this project, make sure to run all the cells before saving the notebook.  Save the notebook file as \"dlnd_image_classification.ipynb\" and save it as a HTML file under \"File\" -> \"Download as\".  Include the \"helper.py\" and \"problem_unittests.py\" files in your submission."
   ]
  },
  {
   "cell_type": "code",
   "execution_count": null,
   "metadata": {
    "collapsed": true
   },
   "outputs": [],
   "source": []
  }
 ],
 "metadata": {
  "kernelspec": {
   "display_name": "Python 3",
   "language": "python",
   "name": "python3"
  },
  "language_info": {
   "codemirror_mode": {
    "name": "ipython",
    "version": 3
   },
   "file_extension": ".py",
   "mimetype": "text/x-python",
   "name": "python",
   "nbconvert_exporter": "python",
   "pygments_lexer": "ipython3",
   "version": "3.5.2"
  },
  "widgets": {
   "state": {},
   "version": "1.1.2"
  }
 },
 "nbformat": 4,
 "nbformat_minor": 0
}
